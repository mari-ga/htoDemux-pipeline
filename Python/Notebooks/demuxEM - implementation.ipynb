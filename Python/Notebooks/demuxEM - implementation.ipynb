{
 "cells": [
  {
   "cell_type": "markdown",
   "id": "72b133fb",
   "metadata": {},
   "source": [
    "<h1> Demux-EM </h1>\n",
    "<br>\n",
    "Simple visual implementation"
   ]
  },
  {
   "cell_type": "code",
   "execution_count": 1,
   "id": "3e1fcbf2",
   "metadata": {},
   "outputs": [],
   "source": [
    "import h5py\n",
    "import numpy as np\n",
    "import pandas as pd\n",
    "import pegasusio as io\n",
    "from demuxEM.tools import *\n",
    "import pegasus as pg\n"
   ]
  },
  {
   "cell_type": "markdown",
   "id": "2248f849",
   "metadata": {},
   "source": [
    "<h3> Get HTO Counts Matrix and UMI Matrix </h3>\n",
    "Both matrices come from .rds objects and were transformed into .csv and hdf5 during the pre processing step"
   ]
  },
  {
   "cell_type": "code",
   "execution_count": 2,
   "id": "2d02126a",
   "metadata": {},
   "outputs": [],
   "source": [
    "hto_mat = \"/Users/mylenemarianagonzalesandre/Development/Data-cluster/Count/filtered_feature_bc_matrix\"\n",
    "umi_mat = \"/Users/mylenemarianagonzalesandre/Development/Data-cluster/UMI/filtered_feature_bc_matrix.h5\""
   ]
  },
  {
   "cell_type": "code",
   "execution_count": 3,
   "id": "d6d0f450",
   "metadata": {},
   "outputs": [
    {
     "name": "stdout",
     "output_type": "stream",
     "text": [
      "2022-09-15 20:17:12,110 - pegasusio.text_utils - INFO - Detected mtx file in 10x v3 format.\n",
      "2022-09-15 20:17:12,351 - pegasusio.readwrite - INFO - mtx file '/Users/mylenemarianagonzalesandre/Development/Data-cluster/Count/filtered_feature_bc_matrix' is loaded.\n",
      "2022-09-15 20:17:12,352 - pegasusio.readwrite - INFO - Function 'read_input' finished in 0.36s.\n"
     ]
    }
   ],
   "source": [
    "hto_data = io.read_input(hto_mat)"
   ]
  },
  {
   "cell_type": "code",
   "execution_count": 4,
   "id": "ba3b4d11",
   "metadata": {},
   "outputs": [
    {
     "name": "stdout",
     "output_type": "stream",
     "text": [
      "2022-09-15 20:17:13,165 - pegasusio.readwrite - INFO - 10x file '/Users/mylenemarianagonzalesandre/Development/Data-cluster/UMI/filtered_feature_bc_matrix.h5' is loaded.\n",
      "2022-09-15 20:17:13,165 - pegasusio.readwrite - INFO - Function 'read_input' finished in 0.81s.\n"
     ]
    }
   ],
   "source": [
    "umi_data = pg.read_input(input_file=umi_mat)"
   ]
  },
  {
   "cell_type": "code",
   "execution_count": 5,
   "id": "f1cefae4",
   "metadata": {},
   "outputs": [
    {
     "data": {
      "text/plain": [
       "MultimodalData object with 1 UnimodalData: 'GRCh38-premrna-rna'\n",
       "    It currently binds to UnimodalData object GRCh38-premrna-rna\n",
       "\n",
       "UnimodalData object with n_obs x n_vars = 4889 x 33694\n",
       "    Genome: GRCh38-premrna; Modality: rna\n",
       "    It contains 1 matrix: 'X'\n",
       "    It currently binds to matrix 'X' as X\n",
       "\n",
       "    var: 'featureid'\n",
       "    uns: 'genome', 'modality'"
      ]
     },
     "execution_count": 5,
     "metadata": {},
     "output_type": "execute_result"
    }
   ],
   "source": [
    "umi_data"
   ]
  },
  {
   "cell_type": "code",
   "execution_count": 6,
   "id": "d72b4cbf",
   "metadata": {},
   "outputs": [
    {
     "name": "stdout",
     "output_type": "stream",
     "text": [
      "2022-09-15 20:17:13,537 - pegasus.tools.preprocessing - INFO - After filtration, 28243/33694 genes are kept. Among 28243 genes, 25981 genes are robust.\n",
      "2022-09-15 20:17:13,538 - pegasus.tools.preprocessing - INFO - Function 'identify_robust_genes' finished in 0.27s.\n"
     ]
    }
   ],
   "source": [
    "pg.qc_metrics(umi_data)\n",
    "pg.identify_robust_genes(umi_data)\n",
    "pg.qc_metrics(hto_data)"
   ]
  },
  {
   "cell_type": "code",
   "execution_count": 7,
   "id": "dd2395f2",
   "metadata": {},
   "outputs": [
    {
     "name": "stdout",
     "output_type": "stream",
     "text": [
      "2022-09-15 20:17:13,723 - demuxEM.tools.demuxEM - INFO - Background probability distribution is estimated.\n"
     ]
    }
   ],
   "source": [
    "pg.estimate_background_probs(hto_data)"
   ]
  },
  {
   "cell_type": "code",
   "execution_count": 8,
   "id": "b8542168",
   "metadata": {},
   "outputs": [
    {
     "name": "stdout",
     "output_type": "stream",
     "text": [
      "2022-09-15 20:17:13,771 - demuxEM.tools.demuxEM - WARNING - Warning: 11 cells do not have ADTs, percentage = 0.22%.\n",
      "2022-09-15 20:20:51,860 - demuxEM.tools.demuxEM - INFO - Demultiplexing is done.\n"
     ]
    }
   ],
   "source": [
    "pg.demultiplex(umi_data, hto_data,alpha=0.8, alpha_noise=0.10,min_signal=9.0)"
   ]
  },
  {
   "cell_type": "code",
   "execution_count": 9,
   "id": "29df3725",
   "metadata": {
    "scrolled": true
   },
   "outputs": [
    {
     "data": {
      "text/html": [
       "<div>\n",
       "<style scoped>\n",
       "    .dataframe tbody tr th:only-of-type {\n",
       "        vertical-align: middle;\n",
       "    }\n",
       "\n",
       "    .dataframe tbody tr th {\n",
       "        vertical-align: top;\n",
       "    }\n",
       "\n",
       "    .dataframe thead th {\n",
       "        text-align: right;\n",
       "    }\n",
       "</style>\n",
       "<table border=\"1\" class=\"dataframe\">\n",
       "  <thead>\n",
       "    <tr style=\"text-align: right;\">\n",
       "      <th></th>\n",
       "      <th>n_genes</th>\n",
       "      <th>n_counts</th>\n",
       "      <th>passed_qc</th>\n",
       "      <th>counts</th>\n",
       "      <th>hto_type</th>\n",
       "      <th>rna_type</th>\n",
       "    </tr>\n",
       "    <tr>\n",
       "      <th>barcodekey</th>\n",
       "      <th></th>\n",
       "      <th></th>\n",
       "      <th></th>\n",
       "      <th></th>\n",
       "      <th></th>\n",
       "      <th></th>\n",
       "    </tr>\n",
       "  </thead>\n",
       "  <tbody>\n",
       "    <tr>\n",
       "      <th>AAACCCAAGACCATGG</th>\n",
       "      <td>6</td>\n",
       "      <td>658</td>\n",
       "      <td>True</td>\n",
       "      <td>658</td>\n",
       "      <td>signal</td>\n",
       "      <td>background</td>\n",
       "    </tr>\n",
       "    <tr>\n",
       "      <th>AAACCCAAGACCTGGA</th>\n",
       "      <td>6</td>\n",
       "      <td>718</td>\n",
       "      <td>True</td>\n",
       "      <td>718</td>\n",
       "      <td>signal</td>\n",
       "      <td>background</td>\n",
       "    </tr>\n",
       "    <tr>\n",
       "      <th>AAACCCAAGAGAGCAA</th>\n",
       "      <td>6</td>\n",
       "      <td>722</td>\n",
       "      <td>True</td>\n",
       "      <td>722</td>\n",
       "      <td>signal</td>\n",
       "      <td>background</td>\n",
       "    </tr>\n",
       "    <tr>\n",
       "      <th>AAACCCAAGAGATGCC</th>\n",
       "      <td>6</td>\n",
       "      <td>741</td>\n",
       "      <td>True</td>\n",
       "      <td>741</td>\n",
       "      <td>signal</td>\n",
       "      <td>background</td>\n",
       "    </tr>\n",
       "    <tr>\n",
       "      <th>AAACCCAAGATGAACT</th>\n",
       "      <td>6</td>\n",
       "      <td>718</td>\n",
       "      <td>True</td>\n",
       "      <td>718</td>\n",
       "      <td>signal</td>\n",
       "      <td>background</td>\n",
       "    </tr>\n",
       "  </tbody>\n",
       "</table>\n",
       "</div>"
      ],
      "text/plain": [
       "                  n_genes  n_counts  passed_qc  counts hto_type    rna_type\n",
       "barcodekey                                                                 \n",
       "AAACCCAAGACCATGG        6       658       True     658   signal  background\n",
       "AAACCCAAGACCTGGA        6       718       True     718   signal  background\n",
       "AAACCCAAGAGAGCAA        6       722       True     722   signal  background\n",
       "AAACCCAAGAGATGCC        6       741       True     741   signal  background\n",
       "AAACCCAAGATGAACT        6       718       True     718   signal  background"
      ]
     },
     "execution_count": 9,
     "metadata": {},
     "output_type": "execute_result"
    }
   ],
   "source": [
    "hto_data.obs.head()"
   ]
  },
  {
   "cell_type": "code",
   "execution_count": 10,
   "id": "058c1b64",
   "metadata": {},
   "outputs": [
    {
     "data": {
      "text/html": [
       "<div>\n",
       "<style scoped>\n",
       "    .dataframe tbody tr th:only-of-type {\n",
       "        vertical-align: middle;\n",
       "    }\n",
       "\n",
       "    .dataframe tbody tr th {\n",
       "        vertical-align: top;\n",
       "    }\n",
       "\n",
       "    .dataframe thead th {\n",
       "        text-align: right;\n",
       "    }\n",
       "</style>\n",
       "<table border=\"1\" class=\"dataframe\">\n",
       "  <thead>\n",
       "    <tr style=\"text-align: right;\">\n",
       "      <th></th>\n",
       "      <th>n_genes</th>\n",
       "      <th>n_counts</th>\n",
       "      <th>passed_qc</th>\n",
       "      <th>demux_type</th>\n",
       "      <th>assignment</th>\n",
       "    </tr>\n",
       "    <tr>\n",
       "      <th>barcodekey</th>\n",
       "      <th></th>\n",
       "      <th></th>\n",
       "      <th></th>\n",
       "      <th></th>\n",
       "      <th></th>\n",
       "    </tr>\n",
       "  </thead>\n",
       "  <tbody>\n",
       "    <tr>\n",
       "      <th>AAACCCAAGGTGTGAC</th>\n",
       "      <td>5147</td>\n",
       "      <td>21181</td>\n",
       "      <td>True</td>\n",
       "      <td>doublet</td>\n",
       "      <td>Hash451_TotalSeqA,Hash454_TotalSeqA</td>\n",
       "    </tr>\n",
       "    <tr>\n",
       "      <th>AAACCCAGTGAGAGGG</th>\n",
       "      <td>3010</td>\n",
       "      <td>7919</td>\n",
       "      <td>True</td>\n",
       "      <td>doublet</td>\n",
       "      <td>Hash453_TotalSeqA,Hash451_TotalSeqA</td>\n",
       "    </tr>\n",
       "    <tr>\n",
       "      <th>AAACGAAAGAATCTAG</th>\n",
       "      <td>1137</td>\n",
       "      <td>1954</td>\n",
       "      <td>True</td>\n",
       "      <td>unknown</td>\n",
       "      <td></td>\n",
       "    </tr>\n",
       "    <tr>\n",
       "      <th>AAACGAACACATATGC</th>\n",
       "      <td>892</td>\n",
       "      <td>1238</td>\n",
       "      <td>True</td>\n",
       "      <td>unknown</td>\n",
       "      <td></td>\n",
       "    </tr>\n",
       "    <tr>\n",
       "      <th>AAACGAACACGACTAT</th>\n",
       "      <td>2840</td>\n",
       "      <td>10121</td>\n",
       "      <td>True</td>\n",
       "      <td>singlet</td>\n",
       "      <td>Hash452_TotalSeqA</td>\n",
       "    </tr>\n",
       "  </tbody>\n",
       "</table>\n",
       "</div>"
      ],
      "text/plain": [
       "                  n_genes  n_counts  passed_qc demux_type  \\\n",
       "barcodekey                                                  \n",
       "AAACCCAAGGTGTGAC     5147     21181       True    doublet   \n",
       "AAACCCAGTGAGAGGG     3010      7919       True    doublet   \n",
       "AAACGAAAGAATCTAG     1137      1954       True    unknown   \n",
       "AAACGAACACATATGC      892      1238       True    unknown   \n",
       "AAACGAACACGACTAT     2840     10121       True    singlet   \n",
       "\n",
       "                                           assignment  \n",
       "barcodekey                                             \n",
       "AAACCCAAGGTGTGAC  Hash451_TotalSeqA,Hash454_TotalSeqA  \n",
       "AAACCCAGTGAGAGGG  Hash453_TotalSeqA,Hash451_TotalSeqA  \n",
       "AAACGAAAGAATCTAG                                       \n",
       "AAACGAACACATATGC                                       \n",
       "AAACGAACACGACTAT                    Hash452_TotalSeqA  "
      ]
     },
     "execution_count": 10,
     "metadata": {},
     "output_type": "execute_result"
    }
   ],
   "source": [
    "umi_data.obs.head()"
   ]
  },
  {
   "cell_type": "code",
   "execution_count": 11,
   "id": "63d3c40e",
   "metadata": {},
   "outputs": [
    {
     "data": {
      "text/plain": [
       "pandas.core.frame.DataFrame"
      ]
     },
     "execution_count": 11,
     "metadata": {},
     "output_type": "execute_result"
    }
   ],
   "source": [
    "type(hto_data.obs)"
   ]
  },
  {
   "cell_type": "code",
   "execution_count": 12,
   "id": "15681da8",
   "metadata": {},
   "outputs": [],
   "source": [
    "umi_data.obs.to_csv(\"/Users/mylenemarianagonzalesandre/Development/Results/Trial 7/results_demuxem.csv\")"
   ]
  },
  {
   "cell_type": "code",
   "execution_count": 13,
   "id": "330bcd13",
   "metadata": {},
   "outputs": [
    {
     "data": {
      "text/html": [
       "<div>\n",
       "<style scoped>\n",
       "    .dataframe tbody tr th:only-of-type {\n",
       "        vertical-align: middle;\n",
       "    }\n",
       "\n",
       "    .dataframe tbody tr th {\n",
       "        vertical-align: top;\n",
       "    }\n",
       "\n",
       "    .dataframe thead th {\n",
       "        text-align: right;\n",
       "    }\n",
       "</style>\n",
       "<table border=\"1\" class=\"dataframe\">\n",
       "  <thead>\n",
       "    <tr style=\"text-align: right;\">\n",
       "      <th></th>\n",
       "      <th>n_genes</th>\n",
       "      <th>n_counts</th>\n",
       "      <th>passed_qc</th>\n",
       "      <th>demux_type</th>\n",
       "      <th>assignment</th>\n",
       "    </tr>\n",
       "    <tr>\n",
       "      <th>barcodekey</th>\n",
       "      <th></th>\n",
       "      <th></th>\n",
       "      <th></th>\n",
       "      <th></th>\n",
       "      <th></th>\n",
       "    </tr>\n",
       "  </thead>\n",
       "  <tbody>\n",
       "    <tr>\n",
       "      <th>AAACCCAAGGTGTGAC</th>\n",
       "      <td>5147</td>\n",
       "      <td>21181</td>\n",
       "      <td>True</td>\n",
       "      <td>doublet</td>\n",
       "      <td>Hash451_TotalSeqA,Hash454_TotalSeqA</td>\n",
       "    </tr>\n",
       "    <tr>\n",
       "      <th>AAACCCAGTGAGAGGG</th>\n",
       "      <td>3010</td>\n",
       "      <td>7919</td>\n",
       "      <td>True</td>\n",
       "      <td>doublet</td>\n",
       "      <td>Hash453_TotalSeqA,Hash451_TotalSeqA</td>\n",
       "    </tr>\n",
       "    <tr>\n",
       "      <th>AAACGAAAGAATCTAG</th>\n",
       "      <td>1137</td>\n",
       "      <td>1954</td>\n",
       "      <td>True</td>\n",
       "      <td>unknown</td>\n",
       "      <td></td>\n",
       "    </tr>\n",
       "    <tr>\n",
       "      <th>AAACGAACACATATGC</th>\n",
       "      <td>892</td>\n",
       "      <td>1238</td>\n",
       "      <td>True</td>\n",
       "      <td>unknown</td>\n",
       "      <td></td>\n",
       "    </tr>\n",
       "    <tr>\n",
       "      <th>AAACGAACACGACTAT</th>\n",
       "      <td>2840</td>\n",
       "      <td>10121</td>\n",
       "      <td>True</td>\n",
       "      <td>singlet</td>\n",
       "      <td>Hash452_TotalSeqA</td>\n",
       "    </tr>\n",
       "    <tr>\n",
       "      <th>...</th>\n",
       "      <td>...</td>\n",
       "      <td>...</td>\n",
       "      <td>...</td>\n",
       "      <td>...</td>\n",
       "      <td>...</td>\n",
       "    </tr>\n",
       "    <tr>\n",
       "      <th>TTTGTTGAGTCCCAGC</th>\n",
       "      <td>481</td>\n",
       "      <td>632</td>\n",
       "      <td>True</td>\n",
       "      <td>doublet</td>\n",
       "      <td>Hash453_TotalSeqA,Hash451_TotalSeqA,Hash456_To...</td>\n",
       "    </tr>\n",
       "    <tr>\n",
       "      <th>TTTGTTGCAGCGCGTT</th>\n",
       "      <td>1817</td>\n",
       "      <td>3240</td>\n",
       "      <td>True</td>\n",
       "      <td>singlet</td>\n",
       "      <td>Hash451_TotalSeqA</td>\n",
       "    </tr>\n",
       "    <tr>\n",
       "      <th>TTTGTTGGTTATCTTC</th>\n",
       "      <td>7035</td>\n",
       "      <td>42242</td>\n",
       "      <td>True</td>\n",
       "      <td>doublet</td>\n",
       "      <td>Hash453_TotalSeqA,Hash451_TotalSeqA,Hash452_To...</td>\n",
       "    </tr>\n",
       "    <tr>\n",
       "      <th>TTTGTTGTCCAGTGTA</th>\n",
       "      <td>7714</td>\n",
       "      <td>36924</td>\n",
       "      <td>True</td>\n",
       "      <td>doublet</td>\n",
       "      <td>Hash454_TotalSeqA,Hash453_TotalSeqA</td>\n",
       "    </tr>\n",
       "    <tr>\n",
       "      <th>TTTGTTGTCGCTTAAG</th>\n",
       "      <td>1266</td>\n",
       "      <td>2217</td>\n",
       "      <td>True</td>\n",
       "      <td>doublet</td>\n",
       "      <td>Hash453_TotalSeqA,Hash451_TotalSeqA</td>\n",
       "    </tr>\n",
       "  </tbody>\n",
       "</table>\n",
       "<p>4889 rows × 5 columns</p>\n",
       "</div>"
      ],
      "text/plain": [
       "                  n_genes  n_counts  passed_qc demux_type  \\\n",
       "barcodekey                                                  \n",
       "AAACCCAAGGTGTGAC     5147     21181       True    doublet   \n",
       "AAACCCAGTGAGAGGG     3010      7919       True    doublet   \n",
       "AAACGAAAGAATCTAG     1137      1954       True    unknown   \n",
       "AAACGAACACATATGC      892      1238       True    unknown   \n",
       "AAACGAACACGACTAT     2840     10121       True    singlet   \n",
       "...                   ...       ...        ...        ...   \n",
       "TTTGTTGAGTCCCAGC      481       632       True    doublet   \n",
       "TTTGTTGCAGCGCGTT     1817      3240       True    singlet   \n",
       "TTTGTTGGTTATCTTC     7035     42242       True    doublet   \n",
       "TTTGTTGTCCAGTGTA     7714     36924       True    doublet   \n",
       "TTTGTTGTCGCTTAAG     1266      2217       True    doublet   \n",
       "\n",
       "                                                         assignment  \n",
       "barcodekey                                                           \n",
       "AAACCCAAGGTGTGAC                Hash451_TotalSeqA,Hash454_TotalSeqA  \n",
       "AAACCCAGTGAGAGGG                Hash453_TotalSeqA,Hash451_TotalSeqA  \n",
       "AAACGAAAGAATCTAG                                                     \n",
       "AAACGAACACATATGC                                                     \n",
       "AAACGAACACGACTAT                                  Hash452_TotalSeqA  \n",
       "...                                                             ...  \n",
       "TTTGTTGAGTCCCAGC  Hash453_TotalSeqA,Hash451_TotalSeqA,Hash456_To...  \n",
       "TTTGTTGCAGCGCGTT                                  Hash451_TotalSeqA  \n",
       "TTTGTTGGTTATCTTC  Hash453_TotalSeqA,Hash451_TotalSeqA,Hash452_To...  \n",
       "TTTGTTGTCCAGTGTA                Hash454_TotalSeqA,Hash453_TotalSeqA  \n",
       "TTTGTTGTCGCTTAAG                Hash453_TotalSeqA,Hash451_TotalSeqA  \n",
       "\n",
       "[4889 rows x 5 columns]"
      ]
     },
     "execution_count": 13,
     "metadata": {},
     "output_type": "execute_result"
    }
   ],
   "source": [
    "umi_data.obs"
   ]
  },
  {
   "cell_type": "code",
   "execution_count": 14,
   "id": "2df7a34a",
   "metadata": {},
   "outputs": [
    {
     "data": {
      "text/plain": [
       "<bound method MultimodalData.current_matrix of MultimodalData object with 1 UnimodalData: 'unknown-rna'\n",
       "    It currently binds to UnimodalData object unknown-rna\n",
       "\n",
       "UnimodalData object with n_obs x n_vars = 90910 x 6\n",
       "    Genome: unknown; Modality: rna\n",
       "    It contains 1 matrix: 'X'\n",
       "    It currently binds to matrix 'X' as X\n",
       "\n",
       "    obs: 'n_genes', 'n_counts', 'passed_qc', 'counts', 'hto_type', 'rna_type'\n",
       "    var: 'featureid', 'featuretype'\n",
       "    uns: 'genome', 'modality', 'background_probs'>"
      ]
     },
     "execution_count": 14,
     "metadata": {},
     "output_type": "execute_result"
    }
   ],
   "source": [
    "hto_data.current_matrix"
   ]
  },
  {
   "cell_type": "code",
   "execution_count": null,
   "id": "ca9eacca",
   "metadata": {},
   "outputs": [],
   "source": []
  },
  {
   "cell_type": "code",
   "execution_count": 15,
   "id": "8969d80c",
   "metadata": {},
   "outputs": [
    {
     "data": {
      "text/html": [
       "<div>\n",
       "<style scoped>\n",
       "    .dataframe tbody tr th:only-of-type {\n",
       "        vertical-align: middle;\n",
       "    }\n",
       "\n",
       "    .dataframe tbody tr th {\n",
       "        vertical-align: top;\n",
       "    }\n",
       "\n",
       "    .dataframe thead th {\n",
       "        text-align: right;\n",
       "    }\n",
       "</style>\n",
       "<table border=\"1\" class=\"dataframe\">\n",
       "  <thead>\n",
       "    <tr style=\"text-align: right;\">\n",
       "      <th></th>\n",
       "      <th>n_genes</th>\n",
       "      <th>n_counts</th>\n",
       "      <th>passed_qc</th>\n",
       "      <th>counts</th>\n",
       "      <th>hto_type</th>\n",
       "      <th>rna_type</th>\n",
       "    </tr>\n",
       "    <tr>\n",
       "      <th>barcodekey</th>\n",
       "      <th></th>\n",
       "      <th></th>\n",
       "      <th></th>\n",
       "      <th></th>\n",
       "      <th></th>\n",
       "      <th></th>\n",
       "    </tr>\n",
       "  </thead>\n",
       "  <tbody>\n",
       "    <tr>\n",
       "      <th>AAACCCAAGACCATGG</th>\n",
       "      <td>6</td>\n",
       "      <td>658</td>\n",
       "      <td>True</td>\n",
       "      <td>658</td>\n",
       "      <td>signal</td>\n",
       "      <td>background</td>\n",
       "    </tr>\n",
       "    <tr>\n",
       "      <th>AAACCCAAGACCTGGA</th>\n",
       "      <td>6</td>\n",
       "      <td>718</td>\n",
       "      <td>True</td>\n",
       "      <td>718</td>\n",
       "      <td>signal</td>\n",
       "      <td>background</td>\n",
       "    </tr>\n",
       "    <tr>\n",
       "      <th>AAACCCAAGAGAGCAA</th>\n",
       "      <td>6</td>\n",
       "      <td>722</td>\n",
       "      <td>True</td>\n",
       "      <td>722</td>\n",
       "      <td>signal</td>\n",
       "      <td>background</td>\n",
       "    </tr>\n",
       "    <tr>\n",
       "      <th>AAACCCAAGAGATGCC</th>\n",
       "      <td>6</td>\n",
       "      <td>741</td>\n",
       "      <td>True</td>\n",
       "      <td>741</td>\n",
       "      <td>signal</td>\n",
       "      <td>background</td>\n",
       "    </tr>\n",
       "    <tr>\n",
       "      <th>AAACCCAAGATGAACT</th>\n",
       "      <td>6</td>\n",
       "      <td>718</td>\n",
       "      <td>True</td>\n",
       "      <td>718</td>\n",
       "      <td>signal</td>\n",
       "      <td>background</td>\n",
       "    </tr>\n",
       "    <tr>\n",
       "      <th>...</th>\n",
       "      <td>...</td>\n",
       "      <td>...</td>\n",
       "      <td>...</td>\n",
       "      <td>...</td>\n",
       "      <td>...</td>\n",
       "      <td>...</td>\n",
       "    </tr>\n",
       "    <tr>\n",
       "      <th>TTTGTTGTCGCTTAAG</th>\n",
       "      <td>6</td>\n",
       "      <td>760</td>\n",
       "      <td>True</td>\n",
       "      <td>760</td>\n",
       "      <td>signal</td>\n",
       "      <td>signal</td>\n",
       "    </tr>\n",
       "    <tr>\n",
       "      <th>TTTGTTGTCGTTGCCT</th>\n",
       "      <td>6</td>\n",
       "      <td>1054</td>\n",
       "      <td>True</td>\n",
       "      <td>1054</td>\n",
       "      <td>signal</td>\n",
       "      <td>background</td>\n",
       "    </tr>\n",
       "    <tr>\n",
       "      <th>TTTGTTGTCTACGGTA</th>\n",
       "      <td>6</td>\n",
       "      <td>695</td>\n",
       "      <td>True</td>\n",
       "      <td>695</td>\n",
       "      <td>signal</td>\n",
       "      <td>background</td>\n",
       "    </tr>\n",
       "    <tr>\n",
       "      <th>TTTGTTGTCTAGTGTG</th>\n",
       "      <td>6</td>\n",
       "      <td>585</td>\n",
       "      <td>True</td>\n",
       "      <td>585</td>\n",
       "      <td>signal</td>\n",
       "      <td>background</td>\n",
       "    </tr>\n",
       "    <tr>\n",
       "      <th>TTTGTTGTCTCTCTTC</th>\n",
       "      <td>6</td>\n",
       "      <td>632</td>\n",
       "      <td>True</td>\n",
       "      <td>632</td>\n",
       "      <td>signal</td>\n",
       "      <td>background</td>\n",
       "    </tr>\n",
       "  </tbody>\n",
       "</table>\n",
       "<p>90910 rows × 6 columns</p>\n",
       "</div>"
      ],
      "text/plain": [
       "                  n_genes  n_counts  passed_qc  counts hto_type    rna_type\n",
       "barcodekey                                                                 \n",
       "AAACCCAAGACCATGG        6       658       True     658   signal  background\n",
       "AAACCCAAGACCTGGA        6       718       True     718   signal  background\n",
       "AAACCCAAGAGAGCAA        6       722       True     722   signal  background\n",
       "AAACCCAAGAGATGCC        6       741       True     741   signal  background\n",
       "AAACCCAAGATGAACT        6       718       True     718   signal  background\n",
       "...                   ...       ...        ...     ...      ...         ...\n",
       "TTTGTTGTCGCTTAAG        6       760       True     760   signal      signal\n",
       "TTTGTTGTCGTTGCCT        6      1054       True    1054   signal  background\n",
       "TTTGTTGTCTACGGTA        6       695       True     695   signal  background\n",
       "TTTGTTGTCTAGTGTG        6       585       True     585   signal  background\n",
       "TTTGTTGTCTCTCTTC        6       632       True     632   signal  background\n",
       "\n",
       "[90910 rows x 6 columns]"
      ]
     },
     "execution_count": 15,
     "metadata": {},
     "output_type": "execute_result"
    }
   ],
   "source": [
    "hto_data.obs"
   ]
  },
  {
   "cell_type": "code",
   "execution_count": 16,
   "id": "583114ef",
   "metadata": {},
   "outputs": [
    {
     "data": {
      "text/plain": [
       "<bound method MultimodalData.current_matrix of MultimodalData object with 1 UnimodalData: 'GRCh38-premrna-rna'\n",
       "    It currently binds to UnimodalData object GRCh38-premrna-rna\n",
       "\n",
       "UnimodalData object with n_obs x n_vars = 4889 x 28243\n",
       "    Genome: GRCh38-premrna; Modality: rna\n",
       "    It contains 1 matrix: 'X'\n",
       "    It currently binds to matrix 'X' as X\n",
       "\n",
       "    obs: 'n_genes', 'n_counts', 'passed_qc', 'demux_type', 'assignment'\n",
       "    var: 'featureid', 'n_cells', 'percent_cells', 'robust', 'highly_variable_features'\n",
       "    obsm: 'raw_probs'\n",
       "    uns: 'genome', 'modality', 'background_probs'>"
      ]
     },
     "execution_count": 16,
     "metadata": {},
     "output_type": "execute_result"
    }
   ],
   "source": [
    "umi_data.current_matrix"
   ]
  },
  {
   "cell_type": "code",
   "execution_count": null,
   "id": "801c1305",
   "metadata": {},
   "outputs": [],
   "source": []
  }
 ],
 "metadata": {
  "interpreter": {
   "hash": "b350122b499f0d3c4a3ca61f36ca9d476f0067994eb2fb5b92b0d8496b9dc200"
  },
  "kernelspec": {
   "display_name": "Python 3 (ipykernel)",
   "language": "python",
   "name": "python3"
  },
  "language_info": {
   "codemirror_mode": {
    "name": "ipython",
    "version": 3
   },
   "file_extension": ".py",
   "mimetype": "text/x-python",
   "name": "python",
   "nbconvert_exporter": "python",
   "pygments_lexer": "ipython3",
   "version": "3.9.12"
  }
 },
 "nbformat": 4,
 "nbformat_minor": 5
}
