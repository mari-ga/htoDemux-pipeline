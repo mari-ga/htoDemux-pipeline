{
 "cells": [
  {
   "cell_type": "markdown",
   "id": "5e9b10ea",
   "metadata": {},
   "source": [
    "<h1> Processing and Visualisation of results </h1>"
   ]
  },
  {
   "cell_type": "code",
   "execution_count": 4,
   "id": "24eee2ad",
   "metadata": {},
   "outputs": [],
   "source": [
    "import pandas as pd\n",
    "import matplotlib.pyplot as plt\n",
    "import numpy as np\n",
    "from collections import defaultdict"
   ]
  },
  {
   "cell_type": "code",
   "execution_count": 5,
   "id": "603370e9",
   "metadata": {},
   "outputs": [],
   "source": [
    "hto_results = pd.read_csv(\"/Users/mylenemarianagonzalesandre/Development/Results-cluster/HTODemux/resultHTO.csv\")"
   ]
  },
  {
   "cell_type": "code",
   "execution_count": 6,
   "id": "c170ae85",
   "metadata": {},
   "outputs": [],
   "source": [
    "hto_results.columns = [\"hashtag\",\"classification\"]"
   ]
  },
  {
   "cell_type": "code",
   "execution_count": 7,
   "id": "51093629",
   "metadata": {},
   "outputs": [
    {
     "data": {
      "text/html": [
       "<div>\n",
       "<style scoped>\n",
       "    .dataframe tbody tr th:only-of-type {\n",
       "        vertical-align: middle;\n",
       "    }\n",
       "\n",
       "    .dataframe tbody tr th {\n",
       "        vertical-align: top;\n",
       "    }\n",
       "\n",
       "    .dataframe thead th {\n",
       "        text-align: right;\n",
       "    }\n",
       "</style>\n",
       "<table border=\"1\" class=\"dataframe\">\n",
       "  <thead>\n",
       "    <tr style=\"text-align: right;\">\n",
       "      <th></th>\n",
       "      <th>hashtag</th>\n",
       "      <th>classification</th>\n",
       "    </tr>\n",
       "  </thead>\n",
       "  <tbody>\n",
       "    <tr>\n",
       "      <th>0</th>\n",
       "      <td>AAACCCAAGGTGTGAC-1</td>\n",
       "      <td>Doublet</td>\n",
       "    </tr>\n",
       "    <tr>\n",
       "      <th>1</th>\n",
       "      <td>AAACCCAGTGAGAGGG-1</td>\n",
       "      <td>Singlet</td>\n",
       "    </tr>\n",
       "    <tr>\n",
       "      <th>2</th>\n",
       "      <td>AAACGAAAGAATCTAG-1</td>\n",
       "      <td>Doublet</td>\n",
       "    </tr>\n",
       "    <tr>\n",
       "      <th>3</th>\n",
       "      <td>AAACGAACACATATGC-1</td>\n",
       "      <td>Doublet</td>\n",
       "    </tr>\n",
       "    <tr>\n",
       "      <th>4</th>\n",
       "      <td>AAACGAACACGACTAT-1</td>\n",
       "      <td>Doublet</td>\n",
       "    </tr>\n",
       "  </tbody>\n",
       "</table>\n",
       "</div>"
      ],
      "text/plain": [
       "              hashtag classification\n",
       "0  AAACCCAAGGTGTGAC-1        Doublet\n",
       "1  AAACCCAGTGAGAGGG-1        Singlet\n",
       "2  AAACGAAAGAATCTAG-1        Doublet\n",
       "3  AAACGAACACATATGC-1        Doublet\n",
       "4  AAACGAACACGACTAT-1        Doublet"
      ]
     },
     "execution_count": 7,
     "metadata": {},
     "output_type": "execute_result"
    }
   ],
   "source": [
    "hto_results.head()"
   ]
  },
  {
   "cell_type": "code",
   "execution_count": 5,
   "id": "74f605bf",
   "metadata": {},
   "outputs": [
    {
     "data": {
      "text/plain": [
       "AAACCCAAGGTGTGAC-1    1\n",
       "GTCACTCTCCACTGGG-1    1\n",
       "GTCATCCCACTACCGG-1    1\n",
       "GTCATCCAGTGATTCC-1    1\n",
       "GTCAGCGTCACGACTA-1    1\n",
       "                     ..\n",
       "CCCTAACCAATTGCAC-1    1\n",
       "CCCTAACAGGCATCGA-1    1\n",
       "CCCTAACAGGATTTGA-1    1\n",
       "CCCTAACAGGATGAGA-1    1\n",
       "TTTGTTGTCGCTTAAG-1    1\n",
       "Name: hashtag, Length: 4878, dtype: int64"
      ]
     },
     "execution_count": 5,
     "metadata": {},
     "output_type": "execute_result"
    }
   ],
   "source": [
    "ids = hto_results['hashtag'].value_counts()\n",
    "ids"
   ]
  },
  {
   "cell_type": "code",
   "execution_count": 6,
   "id": "3018110f",
   "metadata": {},
   "outputs": [],
   "source": [
    "htoDemul = hto_results['classification'].value_counts()"
   ]
  },
  {
   "cell_type": "code",
   "execution_count": 7,
   "id": "3e71cbb6",
   "metadata": {},
   "outputs": [],
   "source": [
    "htoDemul_dict = htoDemul.to_dict()\n"
   ]
  },
  {
   "cell_type": "code",
   "execution_count": 8,
   "id": "f3746170",
   "metadata": {},
   "outputs": [
    {
     "data": {
      "text/plain": [
       "{'Doublet': 3086, 'Singlet': 1149, 'Negative': 643, 'Algorithm': 'HTODemul'}"
      ]
     },
     "execution_count": 8,
     "metadata": {},
     "output_type": "execute_result"
    }
   ],
   "source": [
    "htoDemul_dict['Algorithm'] = \"HTODemul\"\n",
    "htoDemul_dict"
   ]
  },
  {
   "cell_type": "code",
   "execution_count": 17,
   "id": "70b23c4e",
   "metadata": {},
   "outputs": [],
   "source": [
    "multi_results = pd.read_csv(\"/Users/mylenemarianagonzalesandre/Development/Bachelor-Thesis/demultiplex-pipeline/results/multiseq-result.csv\")"
   ]
  },
  {
   "cell_type": "code",
   "execution_count": 18,
   "id": "87da61ea",
   "metadata": {},
   "outputs": [],
   "source": [
    "multi_results.columns = [\"hashtag\",\"classification\"]"
   ]
  },
  {
   "cell_type": "code",
   "execution_count": 19,
   "id": "44aa2103",
   "metadata": {},
   "outputs": [
    {
     "data": {
      "text/html": [
       "<div>\n",
       "<style scoped>\n",
       "    .dataframe tbody tr th:only-of-type {\n",
       "        vertical-align: middle;\n",
       "    }\n",
       "\n",
       "    .dataframe tbody tr th {\n",
       "        vertical-align: top;\n",
       "    }\n",
       "\n",
       "    .dataframe thead th {\n",
       "        text-align: right;\n",
       "    }\n",
       "</style>\n",
       "<table border=\"1\" class=\"dataframe\">\n",
       "  <thead>\n",
       "    <tr style=\"text-align: right;\">\n",
       "      <th></th>\n",
       "      <th>hashtag</th>\n",
       "      <th>classification</th>\n",
       "    </tr>\n",
       "  </thead>\n",
       "  <tbody>\n",
       "    <tr>\n",
       "      <th>0</th>\n",
       "      <td>AGGCCACAGCGTCTAT</td>\n",
       "      <td>HTO-H</td>\n",
       "    </tr>\n",
       "    <tr>\n",
       "      <th>1</th>\n",
       "      <td>ATTGGTGAGTTCGCAT</td>\n",
       "      <td>Doublet</td>\n",
       "    </tr>\n",
       "    <tr>\n",
       "      <th>2</th>\n",
       "      <td>GTGCAGCTCAGTCCCT</td>\n",
       "      <td>HTO-H</td>\n",
       "    </tr>\n",
       "    <tr>\n",
       "      <th>3</th>\n",
       "      <td>TAGTTGGGTCATACTG</td>\n",
       "      <td>HTO-H</td>\n",
       "    </tr>\n",
       "    <tr>\n",
       "      <th>4</th>\n",
       "      <td>TTCTTAGAGAAGGCCT</td>\n",
       "      <td>HTO-D</td>\n",
       "    </tr>\n",
       "    <tr>\n",
       "      <th>...</th>\n",
       "      <td>...</td>\n",
       "      <td>...</td>\n",
       "    </tr>\n",
       "    <tr>\n",
       "      <th>16911</th>\n",
       "      <td>AGCGTCGAGTGGGATC</td>\n",
       "      <td>Doublet</td>\n",
       "    </tr>\n",
       "    <tr>\n",
       "      <th>16912</th>\n",
       "      <td>AACACGTGTAGCCTCG</td>\n",
       "      <td>Doublet</td>\n",
       "    </tr>\n",
       "    <tr>\n",
       "      <th>16913</th>\n",
       "      <td>AGCGTCGAGGGCTTCC</td>\n",
       "      <td>Doublet</td>\n",
       "    </tr>\n",
       "    <tr>\n",
       "      <th>16914</th>\n",
       "      <td>GTCGGGTAGCATGGCA</td>\n",
       "      <td>Doublet</td>\n",
       "    </tr>\n",
       "    <tr>\n",
       "      <th>16915</th>\n",
       "      <td>AGCGTCGGTCCAGTAT</td>\n",
       "      <td>Doublet</td>\n",
       "    </tr>\n",
       "  </tbody>\n",
       "</table>\n",
       "<p>16916 rows × 2 columns</p>\n",
       "</div>"
      ],
      "text/plain": [
       "                hashtag classification\n",
       "0      AGGCCACAGCGTCTAT          HTO-H\n",
       "1      ATTGGTGAGTTCGCAT        Doublet\n",
       "2      GTGCAGCTCAGTCCCT          HTO-H\n",
       "3      TAGTTGGGTCATACTG          HTO-H\n",
       "4      TTCTTAGAGAAGGCCT          HTO-D\n",
       "...                 ...            ...\n",
       "16911  AGCGTCGAGTGGGATC        Doublet\n",
       "16912  AACACGTGTAGCCTCG        Doublet\n",
       "16913  AGCGTCGAGGGCTTCC        Doublet\n",
       "16914  GTCGGGTAGCATGGCA        Doublet\n",
       "16915  AGCGTCGGTCCAGTAT        Doublet\n",
       "\n",
       "[16916 rows x 2 columns]"
      ]
     },
     "execution_count": 19,
     "metadata": {},
     "output_type": "execute_result"
    }
   ],
   "source": [
    "multi_results"
   ]
  },
  {
   "cell_type": "code",
   "execution_count": 20,
   "id": "64846a48",
   "metadata": {},
   "outputs": [],
   "source": [
    "multiseq = multi_results['classification'].value_counts()"
   ]
  },
  {
   "cell_type": "code",
   "execution_count": 21,
   "id": "4d6a02f3",
   "metadata": {},
   "outputs": [
    {
     "data": {
      "text/plain": [
       "Doublet    5633\n",
       "HTO-D      1703\n",
       "HTO-B      1668\n",
       "HTO-G      1572\n",
       "HTO-H      1434\n",
       "HTO-E      1268\n",
       "HTO-C      1253\n",
       "HTO-F      1235\n",
       "HTO-A      1150\n",
       "Name: classification, dtype: int64"
      ]
     },
     "execution_count": 21,
     "metadata": {},
     "output_type": "execute_result"
    }
   ],
   "source": [
    "multiseq"
   ]
  },
  {
   "cell_type": "code",
   "execution_count": 22,
   "id": "71822e3e",
   "metadata": {},
   "outputs": [
    {
     "data": {
      "text/plain": [
       "AGGCCACAGCGTCTAT    1\n",
       "TGGGCGTGTTATCCGA    1\n",
       "ATTACTCGTCTTGATG    1\n",
       "CAGCTAACACAGCGTC    1\n",
       "GACGTGCGTTTCCACC    1\n",
       "                   ..\n",
       "CCTAGCTTCTGCTGCT    1\n",
       "GTGTGCGGTTTGTTTC    1\n",
       "CCTTACGCAACACGCC    1\n",
       "CCGGTAGGTGCAGACA    1\n",
       "AGCGTCGGTCCAGTAT    1\n",
       "Name: hashtag, Length: 16916, dtype: int64"
      ]
     },
     "execution_count": 22,
     "metadata": {},
     "output_type": "execute_result"
    }
   ],
   "source": [
    "ids_2 = multi_results['hashtag'].value_counts()\n",
    "ids_2"
   ]
  },
  {
   "cell_type": "code",
   "execution_count": 36,
   "id": "2fe072c1",
   "metadata": {},
   "outputs": [],
   "source": [
    "multiseq_res_dict = multiseq.to_dict()"
   ]
  },
  {
   "cell_type": "code",
   "execution_count": 37,
   "id": "187a83e6",
   "metadata": {},
   "outputs": [
    {
     "data": {
      "text/plain": [
       "{'Doublet': 5633,\n",
       " 'HTO-D': 1703,\n",
       " 'HTO-B': 1668,\n",
       " 'HTO-G': 1572,\n",
       " 'HTO-H': 1434,\n",
       " 'HTO-E': 1268,\n",
       " 'HTO-C': 1253,\n",
       " 'HTO-F': 1235,\n",
       " 'HTO-A': 1150}"
      ]
     },
     "execution_count": 37,
     "metadata": {},
     "output_type": "execute_result"
    }
   ],
   "source": [
    "multiseq_res_dict "
   ]
  },
  {
   "cell_type": "code",
   "execution_count": 38,
   "id": "9c245d3b",
   "metadata": {},
   "outputs": [
    {
     "name": "stderr",
     "output_type": "stream",
     "text": [
      "/var/folders/10/sfmvfl9139b7z3wwbq1j88gr0000gn/T/ipykernel_6150/599037296.py:1: DeprecationWarning: Calling np.sum(generator) is deprecated, and in the future will give a different result. Use np.sum(np.fromiter(generator)) or the python sum builtin instead.\n",
      "  multi_singlets = np.sum(value for key, value in multiseq_res_dict.items() if key != 'Doublet')\n"
     ]
    }
   ],
   "source": [
    "multi_singlets = np.sum(value for key, value in multiseq_res_dict.items() if key != 'Doublet')"
   ]
  },
  {
   "cell_type": "code",
   "execution_count": 39,
   "id": "17788856",
   "metadata": {},
   "outputs": [],
   "source": [
    "multiseq_dict = dict()\n",
    "multiseq_dict['Singlet'] = multi_singlets"
   ]
  },
  {
   "cell_type": "code",
   "execution_count": 40,
   "id": "02bc42d3",
   "metadata": {},
   "outputs": [],
   "source": [
    "multiseq_dict['Doublet'] = multiseq_res_dict['Doublet']"
   ]
  },
  {
   "cell_type": "code",
   "execution_count": 41,
   "id": "657572a5",
   "metadata": {},
   "outputs": [],
   "source": [
    "multiseq_dict['Negative'] = 0"
   ]
  },
  {
   "cell_type": "code",
   "execution_count": 42,
   "id": "c05cdb70",
   "metadata": {},
   "outputs": [],
   "source": [
    "multiseq_dict['Algorithm'] = \"MULTI-Seq\""
   ]
  },
  {
   "cell_type": "code",
   "execution_count": 43,
   "id": "1ab68d11",
   "metadata": {},
   "outputs": [
    {
     "data": {
      "text/plain": [
       "{'Singlet': 11283, 'Doublet': 5633, 'Negative': 0, 'Algorithm': 'MULTI-Seq'}"
      ]
     },
     "execution_count": 43,
     "metadata": {},
     "output_type": "execute_result"
    }
   ],
   "source": [
    "multiseq_dict"
   ]
  },
  {
   "cell_type": "code",
   "execution_count": 9,
   "id": "0cf99267",
   "metadata": {},
   "outputs": [
    {
     "data": {
      "text/html": [
       "<div>\n",
       "<style scoped>\n",
       "    .dataframe tbody tr th:only-of-type {\n",
       "        vertical-align: middle;\n",
       "    }\n",
       "\n",
       "    .dataframe tbody tr th {\n",
       "        vertical-align: top;\n",
       "    }\n",
       "\n",
       "    .dataframe thead th {\n",
       "        text-align: right;\n",
       "    }\n",
       "</style>\n",
       "<table border=\"1\" class=\"dataframe\">\n",
       "  <thead>\n",
       "    <tr style=\"text-align: right;\">\n",
       "      <th></th>\n",
       "      <th>Unnamed: 0</th>\n",
       "      <th>Total</th>\n",
       "      <th>Best</th>\n",
       "      <th>Second</th>\n",
       "      <th>LogFC</th>\n",
       "      <th>LogFC2</th>\n",
       "      <th>Doublet</th>\n",
       "      <th>Singlet</th>\n",
       "    </tr>\n",
       "  </thead>\n",
       "  <tbody>\n",
       "    <tr>\n",
       "      <th>0</th>\n",
       "      <td>AAACCCAAGGTGTGAC-1</td>\n",
       "      <td>702</td>\n",
       "      <td>3</td>\n",
       "      <td>4</td>\n",
       "      <td>0.012021</td>\n",
       "      <td>0.329709</td>\n",
       "      <td>False</td>\n",
       "      <td>False</td>\n",
       "    </tr>\n",
       "    <tr>\n",
       "      <th>1</th>\n",
       "      <td>AAACCCAGTGAGAGGG-1</td>\n",
       "      <td>624</td>\n",
       "      <td>3</td>\n",
       "      <td>5</td>\n",
       "      <td>1.452952</td>\n",
       "      <td>0.091920</td>\n",
       "      <td>False</td>\n",
       "      <td>False</td>\n",
       "    </tr>\n",
       "    <tr>\n",
       "      <th>2</th>\n",
       "      <td>AAACGAAAGAATCTAG-1</td>\n",
       "      <td>775</td>\n",
       "      <td>3</td>\n",
       "      <td>5</td>\n",
       "      <td>0.939847</td>\n",
       "      <td>0.095805</td>\n",
       "      <td>False</td>\n",
       "      <td>False</td>\n",
       "    </tr>\n",
       "    <tr>\n",
       "      <th>3</th>\n",
       "      <td>AAACGAACACATATGC-1</td>\n",
       "      <td>710</td>\n",
       "      <td>3</td>\n",
       "      <td>6</td>\n",
       "      <td>0.710428</td>\n",
       "      <td>0.027963</td>\n",
       "      <td>False</td>\n",
       "      <td>False</td>\n",
       "    </tr>\n",
       "    <tr>\n",
       "      <th>4</th>\n",
       "      <td>AAACGAACACGACTAT-1</td>\n",
       "      <td>869</td>\n",
       "      <td>2</td>\n",
       "      <td>3</td>\n",
       "      <td>0.117329</td>\n",
       "      <td>0.355157</td>\n",
       "      <td>False</td>\n",
       "      <td>False</td>\n",
       "    </tr>\n",
       "  </tbody>\n",
       "</table>\n",
       "</div>"
      ],
      "text/plain": [
       "           Unnamed: 0  Total  Best  Second     LogFC    LogFC2  Doublet  \\\n",
       "0  AAACCCAAGGTGTGAC-1    702     3       4  0.012021  0.329709    False   \n",
       "1  AAACCCAGTGAGAGGG-1    624     3       5  1.452952  0.091920    False   \n",
       "2  AAACGAAAGAATCTAG-1    775     3       5  0.939847  0.095805    False   \n",
       "3  AAACGAACACATATGC-1    710     3       6  0.710428  0.027963    False   \n",
       "4  AAACGAACACGACTAT-1    869     2       3  0.117329  0.355157    False   \n",
       "\n",
       "   Singlet  \n",
       "0    False  \n",
       "1    False  \n",
       "2    False  \n",
       "3    False  \n",
       "4    False  "
      ]
     },
     "execution_count": 9,
     "metadata": {},
     "output_type": "execute_result"
    }
   ],
   "source": [
    "hashed_drops = pd.read_csv('/Users/mylenemarianagonzalesandre/Development/Results-cluster/Hashed-Drops/resultHashed.csv')\n",
    "hashed_drops=hashed_drops.rename(columns = {'Confident':'Singlet'})\n",
    "hashed_drops.head()"
   ]
  },
  {
   "cell_type": "code",
   "execution_count": 10,
   "id": "f1241ca0",
   "metadata": {},
   "outputs": [],
   "source": [
    "#Confident = Singlet\n",
    "#Doublet -> True\n",
    "#Comparar las columnas buscando negativos para encontrar negativos\n",
    "#simplemente resta el total entre estos 2 del total total y tienes los negativos\n",
    "drops_count_singlets = hashed_drops['Singlet'].value_counts()\n",
    "drops_count_doublets = hashed_drops['Doublet'].value_counts()"
   ]
  },
  {
   "cell_type": "code",
   "execution_count": 11,
   "id": "224c5c6c",
   "metadata": {},
   "outputs": [
    {
     "data": {
      "text/plain": [
       "False    4828\n",
       "True       50\n",
       "Name: Singlet, dtype: int64"
      ]
     },
     "execution_count": 11,
     "metadata": {},
     "output_type": "execute_result"
    }
   ],
   "source": [
    "drops_count_singlets"
   ]
  },
  {
   "cell_type": "code",
   "execution_count": 12,
   "id": "48b852c4",
   "metadata": {},
   "outputs": [
    {
     "data": {
      "text/plain": [
       "False    4877\n",
       "True        1\n",
       "Name: Doublet, dtype: int64"
      ]
     },
     "execution_count": 12,
     "metadata": {},
     "output_type": "execute_result"
    }
   ],
   "source": [
    "drops_count_doublets\n"
   ]
  },
  {
   "cell_type": "code",
   "execution_count": 13,
   "id": "96557282",
   "metadata": {},
   "outputs": [
    {
     "data": {
      "text/plain": [
       "4827"
      ]
     },
     "execution_count": 13,
     "metadata": {},
     "output_type": "execute_result"
    }
   ],
   "source": [
    "drops_count_singlets.to_dict()\n",
    "drops_count_doublets.to_dict()\n",
    "b= drops_count_singlets[True] + drops_count_singlets[False]\n",
    "a = drops_count_singlets[True]+drops_count_doublets[True]\n",
    "c = b - a\n",
    "c\n",
    "#Necesito crear un dict que contenga los 3, neg doub, sing"
   ]
  },
  {
   "cell_type": "code",
   "execution_count": 14,
   "id": "d2b6b1f3",
   "metadata": {},
   "outputs": [],
   "source": [
    "drop_dict = dict()\n",
    "drop_dict['Singlet'] = drops_count_singlets[True]\n",
    "drop_dict['Doublet'] = drops_count_doublets[True]\n",
    "drop_dict['Negative'] = c\n",
    "drop_dict['Algorithm'] = 'Hashed Drops'"
   ]
  },
  {
   "cell_type": "code",
   "execution_count": null,
   "id": "20cf88ef",
   "metadata": {},
   "outputs": [],
   "source": []
  },
  {
   "cell_type": "code",
   "execution_count": 15,
   "id": "9179df74",
   "metadata": {},
   "outputs": [
    {
     "name": "stdout",
     "output_type": "stream",
     "text": [
      "defaultdict(<class 'list'>, {'Doublet': [3086, 1], 'Singlet': [1149, 50], 'Negative': [643, 4827], 'Algorithm': ['HTODemul', 'Hashed Drops']})\n"
     ]
    }
   ],
   "source": [
    "dd = defaultdict(list)\n",
    "for d in (htoDemul_dict,drop_dict): # you can list as many input dicts as you want here\n",
    "    for key, value in d.items():\n",
    "        dd[key].append(value)\n",
    "\n",
    "print(dd)"
   ]
  },
  {
   "cell_type": "code",
   "execution_count": 16,
   "id": "67ebf524",
   "metadata": {},
   "outputs": [
    {
     "data": {
      "text/plain": [
       "{'Doublet': [3086, 1],\n",
       " 'Singlet': [1149, 50],\n",
       " 'Negative': [643, 4827],\n",
       " 'Algorithm': ['HTODemul', 'Hashed Drops']}"
      ]
     },
     "execution_count": 16,
     "metadata": {},
     "output_type": "execute_result"
    }
   ],
   "source": [
    "dict(dd)"
   ]
  },
  {
   "cell_type": "code",
   "execution_count": 17,
   "id": "3264b514",
   "metadata": {},
   "outputs": [
    {
     "data": {
      "text/plain": [
       "True"
      ]
     },
     "execution_count": 17,
     "metadata": {},
     "output_type": "execute_result"
    }
   ],
   "source": [
    "bool(dict(dd))"
   ]
  },
  {
   "cell_type": "code",
   "execution_count": 18,
   "id": "cf614369",
   "metadata": {},
   "outputs": [],
   "source": [
    "dfObj = pd.DataFrame(dict(dd))"
   ]
  },
  {
   "cell_type": "code",
   "execution_count": 19,
   "id": "1947a907",
   "metadata": {},
   "outputs": [
    {
     "data": {
      "text/html": [
       "<div>\n",
       "<style scoped>\n",
       "    .dataframe tbody tr th:only-of-type {\n",
       "        vertical-align: middle;\n",
       "    }\n",
       "\n",
       "    .dataframe tbody tr th {\n",
       "        vertical-align: top;\n",
       "    }\n",
       "\n",
       "    .dataframe thead th {\n",
       "        text-align: right;\n",
       "    }\n",
       "</style>\n",
       "<table border=\"1\" class=\"dataframe\">\n",
       "  <thead>\n",
       "    <tr style=\"text-align: right;\">\n",
       "      <th></th>\n",
       "      <th>Doublet</th>\n",
       "      <th>Singlet</th>\n",
       "      <th>Negative</th>\n",
       "      <th>Algorithm</th>\n",
       "    </tr>\n",
       "  </thead>\n",
       "  <tbody>\n",
       "    <tr>\n",
       "      <th>0</th>\n",
       "      <td>3086</td>\n",
       "      <td>1149</td>\n",
       "      <td>643</td>\n",
       "      <td>HTODemul</td>\n",
       "    </tr>\n",
       "    <tr>\n",
       "      <th>1</th>\n",
       "      <td>1</td>\n",
       "      <td>50</td>\n",
       "      <td>4827</td>\n",
       "      <td>Hashed Drops</td>\n",
       "    </tr>\n",
       "  </tbody>\n",
       "</table>\n",
       "</div>"
      ],
      "text/plain": [
       "   Doublet  Singlet  Negative     Algorithm\n",
       "0     3086     1149       643      HTODemul\n",
       "1        1       50      4827  Hashed Drops"
      ]
     },
     "execution_count": 19,
     "metadata": {},
     "output_type": "execute_result"
    }
   ],
   "source": [
    "dfObj"
   ]
  },
  {
   "cell_type": "code",
   "execution_count": 20,
   "id": "73f41c67",
   "metadata": {},
   "outputs": [
    {
     "data": {
      "text/plain": [
       "<AxesSubplot:title={'center':'Hashing Demultiplexing per algorithm'}, xlabel='Algorithm'>"
      ]
     },
     "execution_count": 20,
     "metadata": {},
     "output_type": "execute_result"
    },
    {
     "data": {
      "image/png": "[encoded data removed]",
      "text/plain": [
       "<Figure size 1080x720 with 1 Axes>"
      ]
     },
     "metadata": {
      "needs_background": "light"
     },
     "output_type": "display_data"
    }
   ],
   "source": [
    "dfObj.plot.bar(x='Algorithm', stacked=True,color=[\"#DA4167\",\"#E2B1B1\",\"#258EA6\"], title='Hashing Demultiplexing per algorithm',figsize=(15, 10))\n"
   ]
  },
  {
   "cell_type": "code",
   "execution_count": null,
   "id": "7f7ca771",
   "metadata": {},
   "outputs": [],
   "source": []
  }
 ],
 "metadata": {
  "interpreter": {
   "hash": "b350122b499f0d3c4a3ca61f36ca9d476f0067994eb2fb5b92b0d8496b9dc200"
  },
  "kernelspec": {
   "display_name": "Python 3 (ipykernel)",
   "language": "python",
   "name": "python3"
  },
  "language_info": {
   "codemirror_mode": {
    "name": "ipython",
    "version": 3
   },
   "file_extension": ".py",
   "mimetype": "text/x-python",
   "name": "python",
   "nbconvert_exporter": "python",
   "pygments_lexer": "ipython3",
   "version": "3.9.12"
  }
 },
 "nbformat": 4,
 "nbformat_minor": 5
}
