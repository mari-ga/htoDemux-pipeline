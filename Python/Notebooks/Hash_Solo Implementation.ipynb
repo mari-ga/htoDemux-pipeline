{
 "cells": [
  {
   "cell_type": "code",
   "execution_count": 1,
   "id": "da2202d9",
   "metadata": {},
   "outputs": [],
   "source": [
    "from solo import hashsolo\n",
    "import anndata\n",
    "import matplotlib.pyplot as plt\n",
    "import pegasusio as io"
   ]
  },
  {
   "cell_type": "code",
   "execution_count": 28,
   "id": "ddd93969",
   "metadata": {},
   "outputs": [],
   "source": [
    "#cell_hashing_data = anndata.read(\"/Users/mylenemarianagonzalesandre/Development/Data-cluster/Count/filtered_matrix.h5ad\")"
   ]
  },
  {
   "cell_type": "code",
   "execution_count": 2,
   "id": "233304dc",
   "metadata": {},
   "outputs": [
    {
     "name": "stdout",
     "output_type": "stream",
     "text": [
      "2022-09-21 16:20:48,037 - pegasusio.text_utils - INFO - Detected mtx file in 10x v3 format.\n",
      "2022-09-21 16:20:48,296 - pegasusio.readwrite - INFO - mtx file '/Users/mylenemarianagonzalesandre/Development/Data-cluster/Count/filtered_feature_bc_matrix' is loaded.\n",
      "2022-09-21 16:20:48,297 - pegasusio.readwrite - INFO - Function 'read_input' finished in 0.41s.\n"
     ]
    }
   ],
   "source": [
    "hto_mat = \"/Users/mylenemarianagonzalesandre/Development/Data-cluster/Count/filtered_feature_bc_matrix\"\n",
    "cell_hashing_data = io.read_input(hto_mat)\n",
    "hashsolo.hashsolo(cell_hashing_data,priors=[0.05,0.7,0.25])"
   ]
  },
  {
   "cell_type": "code",
   "execution_count": 3,
   "id": "343b48c5",
   "metadata": {},
   "outputs": [
    {
     "data": {
      "text/html": [
       "<div>\n",
       "<style scoped>\n",
       "    .dataframe tbody tr th:only-of-type {\n",
       "        vertical-align: middle;\n",
       "    }\n",
       "\n",
       "    .dataframe tbody tr th {\n",
       "        vertical-align: top;\n",
       "    }\n",
       "\n",
       "    .dataframe thead th {\n",
       "        text-align: right;\n",
       "    }\n",
       "</style>\n",
       "<table border=\"1\" class=\"dataframe\">\n",
       "  <thead>\n",
       "    <tr style=\"text-align: right;\">\n",
       "      <th></th>\n",
       "      <th>most_likely_hypothesis</th>\n",
       "      <th>cluster_feature</th>\n",
       "      <th>negative_hypothesis_probability</th>\n",
       "      <th>singlet_hypothesis_probability</th>\n",
       "      <th>doublet_hypothesis_probability</th>\n",
       "      <th>Classification</th>\n",
       "    </tr>\n",
       "    <tr>\n",
       "      <th>barcodekey</th>\n",
       "      <th></th>\n",
       "      <th></th>\n",
       "      <th></th>\n",
       "      <th></th>\n",
       "      <th></th>\n",
       "      <th></th>\n",
       "    </tr>\n",
       "  </thead>\n",
       "  <tbody>\n",
       "    <tr>\n",
       "      <th>AAACCCAAGACCATGG</th>\n",
       "      <td>1</td>\n",
       "      <td>0</td>\n",
       "      <td>0.002424</td>\n",
       "      <td>0.966232</td>\n",
       "      <td>0.031344</td>\n",
       "      <td>Hash453_TotalSeqA</td>\n",
       "    </tr>\n",
       "    <tr>\n",
       "      <th>AAACCCAAGACCTGGA</th>\n",
       "      <td>1</td>\n",
       "      <td>0</td>\n",
       "      <td>0.000618</td>\n",
       "      <td>0.933815</td>\n",
       "      <td>0.065567</td>\n",
       "      <td>Hash453_TotalSeqA</td>\n",
       "    </tr>\n",
       "    <tr>\n",
       "      <th>AAACCCAAGAGAGCAA</th>\n",
       "      <td>1</td>\n",
       "      <td>0</td>\n",
       "      <td>0.000811</td>\n",
       "      <td>0.955767</td>\n",
       "      <td>0.043422</td>\n",
       "      <td>Hash453_TotalSeqA</td>\n",
       "    </tr>\n",
       "    <tr>\n",
       "      <th>AAACCCAAGAGATGCC</th>\n",
       "      <td>1</td>\n",
       "      <td>0</td>\n",
       "      <td>0.000320</td>\n",
       "      <td>0.972632</td>\n",
       "      <td>0.027048</td>\n",
       "      <td>Hash453_TotalSeqA</td>\n",
       "    </tr>\n",
       "    <tr>\n",
       "      <th>AAACCCAAGATGAACT</th>\n",
       "      <td>1</td>\n",
       "      <td>0</td>\n",
       "      <td>0.000650</td>\n",
       "      <td>0.953025</td>\n",
       "      <td>0.046325</td>\n",
       "      <td>Hash453_TotalSeqA</td>\n",
       "    </tr>\n",
       "  </tbody>\n",
       "</table>\n",
       "</div>"
      ],
      "text/plain": [
       "                  most_likely_hypothesis  cluster_feature  \\\n",
       "barcodekey                                                  \n",
       "AAACCCAAGACCATGG                       1                0   \n",
       "AAACCCAAGACCTGGA                       1                0   \n",
       "AAACCCAAGAGAGCAA                       1                0   \n",
       "AAACCCAAGAGATGCC                       1                0   \n",
       "AAACCCAAGATGAACT                       1                0   \n",
       "\n",
       "                  negative_hypothesis_probability  \\\n",
       "barcodekey                                          \n",
       "AAACCCAAGACCATGG                         0.002424   \n",
       "AAACCCAAGACCTGGA                         0.000618   \n",
       "AAACCCAAGAGAGCAA                         0.000811   \n",
       "AAACCCAAGAGATGCC                         0.000320   \n",
       "AAACCCAAGATGAACT                         0.000650   \n",
       "\n",
       "                  singlet_hypothesis_probability  \\\n",
       "barcodekey                                         \n",
       "AAACCCAAGACCATGG                        0.966232   \n",
       "AAACCCAAGACCTGGA                        0.933815   \n",
       "AAACCCAAGAGAGCAA                        0.955767   \n",
       "AAACCCAAGAGATGCC                        0.972632   \n",
       "AAACCCAAGATGAACT                        0.953025   \n",
       "\n",
       "                  doublet_hypothesis_probability     Classification  \n",
       "barcodekey                                                           \n",
       "AAACCCAAGACCATGG                        0.031344  Hash453_TotalSeqA  \n",
       "AAACCCAAGACCTGGA                        0.065567  Hash453_TotalSeqA  \n",
       "AAACCCAAGAGAGCAA                        0.043422  Hash453_TotalSeqA  \n",
       "AAACCCAAGAGATGCC                        0.027048  Hash453_TotalSeqA  \n",
       "AAACCCAAGATGAACT                        0.046325  Hash453_TotalSeqA  "
      ]
     },
     "execution_count": 3,
     "metadata": {},
     "output_type": "execute_result"
    }
   ],
   "source": [
    "cell_hashing_data.obs.head()"
   ]
  },
  {
   "cell_type": "code",
   "execution_count": 7,
   "id": "28da8d0c",
   "metadata": {},
   "outputs": [
    {
     "name": "stderr",
     "output_type": "stream",
     "text": [
      "/opt/anaconda3/envs/demul/lib/python3.9/site-packages/solo/hashsolo.py:516: UserWarning: Matplotlib is currently using agg, which is a non-GUI backend, so cannot show the figure.\n",
      "  plt.show()\n"
     ]
    }
   ],
   "source": [
    "hashsolo.plot_qc_checks_cell_hashing(cell_hashing_data)\n",
    "plt.savefig(\"hash_solo.jpg\",dpi=400)"
   ]
  },
  {
   "cell_type": "code",
   "execution_count": null,
   "id": "dc8809cf",
   "metadata": {},
   "outputs": [],
   "source": [
    "cell_hashing_data.obs.to_csvo"
   ]
  },
  {
   "cell_type": "code",
   "execution_count": 10,
   "id": "53f9e68b",
   "metadata": {},
   "outputs": [
    {
     "ename": "ValueError",
     "evalue": "X is None, cannot convert to dataframe.",
     "output_type": "error",
     "traceback": [
      "\u001b[0;31m---------------------------------------------------------------------------\u001b[0m",
      "\u001b[0;31mValueError\u001b[0m                                Traceback (most recent call last)",
      "Input \u001b[0;32mIn [10]\u001b[0m, in \u001b[0;36m<cell line: 1>\u001b[0;34m()\u001b[0m\n\u001b[0;32m----> 1\u001b[0m hto \u001b[38;5;241m=\u001b[39m \u001b[43mcell_hashing_data\u001b[49m\u001b[38;5;241;43m.\u001b[39;49m\u001b[43mto_df\u001b[49m\u001b[43m(\u001b[49m\u001b[43m)\u001b[49m\n",
      "File \u001b[0;32m/opt/anaconda3/envs/demul/lib/python3.9/site-packages/anndata/_core/anndata.py:1340\u001b[0m, in \u001b[0;36mAnnData.to_df\u001b[0;34m(self, layer)\u001b[0m\n\u001b[1;32m   1338\u001b[0m     X \u001b[38;5;241m=\u001b[39m \u001b[38;5;28mself\u001b[39m\u001b[38;5;241m.\u001b[39mlayers[layer]\n\u001b[1;32m   1339\u001b[0m \u001b[38;5;28;01melif\u001b[39;00m \u001b[38;5;129;01mnot\u001b[39;00m \u001b[38;5;28mself\u001b[39m\u001b[38;5;241m.\u001b[39m_has_X():\n\u001b[0;32m-> 1340\u001b[0m     \u001b[38;5;28;01mraise\u001b[39;00m \u001b[38;5;167;01mValueError\u001b[39;00m(\u001b[38;5;124m\"\u001b[39m\u001b[38;5;124mX is None, cannot convert to dataframe.\u001b[39m\u001b[38;5;124m\"\u001b[39m)\n\u001b[1;32m   1341\u001b[0m \u001b[38;5;28;01melse\u001b[39;00m:\n\u001b[1;32m   1342\u001b[0m     X \u001b[38;5;241m=\u001b[39m \u001b[38;5;28mself\u001b[39m\u001b[38;5;241m.\u001b[39mX\n",
      "\u001b[0;31mValueError\u001b[0m: X is None, cannot convert to dataframe."
     ]
    }
   ],
   "source": []
  },
  {
   "cell_type": "code",
   "execution_count": 20,
   "id": "ccea941e",
   "metadata": {},
   "outputs": [],
   "source": [
    "import scanpy as sc\n",
    "data = sc.read_h5ad(\"/Users/mylenemarianagonzalesandre/Development/Data-cluster/hto-filtered_matrix.h5ad\")"
   ]
  },
  {
   "cell_type": "code",
   "execution_count": 21,
   "id": "6ab2fb9e",
   "metadata": {},
   "outputs": [
    {
     "ename": "ValueError",
     "evalue": "X is None, cannot convert to dataframe.",
     "output_type": "error",
     "traceback": [
      "\u001b[0;31m---------------------------------------------------------------------------\u001b[0m",
      "\u001b[0;31mValueError\u001b[0m                                Traceback (most recent call last)",
      "Input \u001b[0;32mIn [21]\u001b[0m, in \u001b[0;36m<cell line: 1>\u001b[0;34m()\u001b[0m\n\u001b[0;32m----> 1\u001b[0m \u001b[43mdata\u001b[49m\u001b[38;5;241;43m.\u001b[39;49m\u001b[43mto_df\u001b[49m\u001b[43m(\u001b[49m\u001b[43m)\u001b[49m\n",
      "File \u001b[0;32m/opt/anaconda3/envs/demul/lib/python3.9/site-packages/anndata/_core/anndata.py:1340\u001b[0m, in \u001b[0;36mAnnData.to_df\u001b[0;34m(self, layer)\u001b[0m\n\u001b[1;32m   1338\u001b[0m     X \u001b[38;5;241m=\u001b[39m \u001b[38;5;28mself\u001b[39m\u001b[38;5;241m.\u001b[39mlayers[layer]\n\u001b[1;32m   1339\u001b[0m \u001b[38;5;28;01melif\u001b[39;00m \u001b[38;5;129;01mnot\u001b[39;00m \u001b[38;5;28mself\u001b[39m\u001b[38;5;241m.\u001b[39m_has_X():\n\u001b[0;32m-> 1340\u001b[0m     \u001b[38;5;28;01mraise\u001b[39;00m \u001b[38;5;167;01mValueError\u001b[39;00m(\u001b[38;5;124m\"\u001b[39m\u001b[38;5;124mX is None, cannot convert to dataframe.\u001b[39m\u001b[38;5;124m\"\u001b[39m)\n\u001b[1;32m   1341\u001b[0m \u001b[38;5;28;01melse\u001b[39;00m:\n\u001b[1;32m   1342\u001b[0m     X \u001b[38;5;241m=\u001b[39m \u001b[38;5;28mself\u001b[39m\u001b[38;5;241m.\u001b[39mX\n",
      "\u001b[0;31mValueError\u001b[0m: X is None, cannot convert to dataframe."
     ]
    }
   ],
   "source": [
    "data.to_df()"
   ]
  },
  {
   "cell_type": "code",
   "execution_count": 22,
   "id": "af4dc293",
   "metadata": {},
   "outputs": [],
   "source": [
    "data_2 = sc.read_h5ad(\"/Users/mylenemarianagonzalesandre/Development/Data-cluster/Count/filtered_matrix.h5ad\")"
   ]
  },
  {
   "cell_type": "code",
   "execution_count": 23,
   "id": "76a55966",
   "metadata": {},
   "outputs": [
    {
     "data": {
      "text/html": [
       "<div>\n",
       "<style scoped>\n",
       "    .dataframe tbody tr th:only-of-type {\n",
       "        vertical-align: middle;\n",
       "    }\n",
       "\n",
       "    .dataframe tbody tr th {\n",
       "        vertical-align: top;\n",
       "    }\n",
       "\n",
       "    .dataframe thead th {\n",
       "        text-align: right;\n",
       "    }\n",
       "</style>\n",
       "<table border=\"1\" class=\"dataframe\">\n",
       "  <thead>\n",
       "    <tr style=\"text-align: right;\">\n",
       "      <th>featurekey</th>\n",
       "      <th>Hash451_TotalSeqA</th>\n",
       "      <th>Hash452_TotalSeqA</th>\n",
       "      <th>Hash453_TotalSeqA</th>\n",
       "      <th>Hash454_TotalSeqA</th>\n",
       "      <th>Hash455_TotalSeqA</th>\n",
       "      <th>Hash456_TotalSeqA</th>\n",
       "    </tr>\n",
       "    <tr>\n",
       "      <th>barcodekey</th>\n",
       "      <th></th>\n",
       "      <th></th>\n",
       "      <th></th>\n",
       "      <th></th>\n",
       "      <th></th>\n",
       "      <th></th>\n",
       "    </tr>\n",
       "  </thead>\n",
       "  <tbody>\n",
       "    <tr>\n",
       "      <th>AAACCCAAGACCATGG</th>\n",
       "      <td>176.0</td>\n",
       "      <td>72.0</td>\n",
       "      <td>332.0</td>\n",
       "      <td>13.0</td>\n",
       "      <td>16.0</td>\n",
       "      <td>49.0</td>\n",
       "    </tr>\n",
       "    <tr>\n",
       "      <th>AAACCCAAGACCTGGA</th>\n",
       "      <td>211.0</td>\n",
       "      <td>68.0</td>\n",
       "      <td>372.0</td>\n",
       "      <td>8.0</td>\n",
       "      <td>19.0</td>\n",
       "      <td>40.0</td>\n",
       "    </tr>\n",
       "    <tr>\n",
       "      <th>AAACCCAAGAGAGCAA</th>\n",
       "      <td>193.0</td>\n",
       "      <td>65.0</td>\n",
       "      <td>364.0</td>\n",
       "      <td>7.0</td>\n",
       "      <td>30.0</td>\n",
       "      <td>63.0</td>\n",
       "    </tr>\n",
       "    <tr>\n",
       "      <th>AAACCCAAGAGATGCC</th>\n",
       "      <td>166.0</td>\n",
       "      <td>88.0</td>\n",
       "      <td>396.0</td>\n",
       "      <td>5.0</td>\n",
       "      <td>23.0</td>\n",
       "      <td>63.0</td>\n",
       "    </tr>\n",
       "    <tr>\n",
       "      <th>AAACCCAAGATGAACT</th>\n",
       "      <td>196.0</td>\n",
       "      <td>68.0</td>\n",
       "      <td>371.0</td>\n",
       "      <td>4.0</td>\n",
       "      <td>30.0</td>\n",
       "      <td>49.0</td>\n",
       "    </tr>\n",
       "    <tr>\n",
       "      <th>...</th>\n",
       "      <td>...</td>\n",
       "      <td>...</td>\n",
       "      <td>...</td>\n",
       "      <td>...</td>\n",
       "      <td>...</td>\n",
       "      <td>...</td>\n",
       "    </tr>\n",
       "    <tr>\n",
       "      <th>TTTGTTGTCGCTTAAG</th>\n",
       "      <td>219.0</td>\n",
       "      <td>53.0</td>\n",
       "      <td>400.0</td>\n",
       "      <td>6.0</td>\n",
       "      <td>18.0</td>\n",
       "      <td>64.0</td>\n",
       "    </tr>\n",
       "    <tr>\n",
       "      <th>TTTGTTGTCGTTGCCT</th>\n",
       "      <td>219.0</td>\n",
       "      <td>117.0</td>\n",
       "      <td>588.0</td>\n",
       "      <td>9.0</td>\n",
       "      <td>37.0</td>\n",
       "      <td>84.0</td>\n",
       "    </tr>\n",
       "    <tr>\n",
       "      <th>TTTGTTGTCTACGGTA</th>\n",
       "      <td>162.0</td>\n",
       "      <td>61.0</td>\n",
       "      <td>388.0</td>\n",
       "      <td>6.0</td>\n",
       "      <td>20.0</td>\n",
       "      <td>58.0</td>\n",
       "    </tr>\n",
       "    <tr>\n",
       "      <th>TTTGTTGTCTAGTGTG</th>\n",
       "      <td>164.0</td>\n",
       "      <td>63.0</td>\n",
       "      <td>301.0</td>\n",
       "      <td>8.0</td>\n",
       "      <td>13.0</td>\n",
       "      <td>36.0</td>\n",
       "    </tr>\n",
       "    <tr>\n",
       "      <th>TTTGTTGTCTCTCTTC</th>\n",
       "      <td>177.0</td>\n",
       "      <td>71.0</td>\n",
       "      <td>320.0</td>\n",
       "      <td>10.0</td>\n",
       "      <td>7.0</td>\n",
       "      <td>47.0</td>\n",
       "    </tr>\n",
       "  </tbody>\n",
       "</table>\n",
       "<p>90910 rows × 6 columns</p>\n",
       "</div>"
      ],
      "text/plain": [
       "featurekey        Hash451_TotalSeqA  Hash452_TotalSeqA  Hash453_TotalSeqA  \\\n",
       "barcodekey                                                                  \n",
       "AAACCCAAGACCATGG              176.0               72.0              332.0   \n",
       "AAACCCAAGACCTGGA              211.0               68.0              372.0   \n",
       "AAACCCAAGAGAGCAA              193.0               65.0              364.0   \n",
       "AAACCCAAGAGATGCC              166.0               88.0              396.0   \n",
       "AAACCCAAGATGAACT              196.0               68.0              371.0   \n",
       "...                             ...                ...                ...   \n",
       "TTTGTTGTCGCTTAAG              219.0               53.0              400.0   \n",
       "TTTGTTGTCGTTGCCT              219.0              117.0              588.0   \n",
       "TTTGTTGTCTACGGTA              162.0               61.0              388.0   \n",
       "TTTGTTGTCTAGTGTG              164.0               63.0              301.0   \n",
       "TTTGTTGTCTCTCTTC              177.0               71.0              320.0   \n",
       "\n",
       "featurekey        Hash454_TotalSeqA  Hash455_TotalSeqA  Hash456_TotalSeqA  \n",
       "barcodekey                                                                 \n",
       "AAACCCAAGACCATGG               13.0               16.0               49.0  \n",
       "AAACCCAAGACCTGGA                8.0               19.0               40.0  \n",
       "AAACCCAAGAGAGCAA                7.0               30.0               63.0  \n",
       "AAACCCAAGAGATGCC                5.0               23.0               63.0  \n",
       "AAACCCAAGATGAACT                4.0               30.0               49.0  \n",
       "...                             ...                ...                ...  \n",
       "TTTGTTGTCGCTTAAG                6.0               18.0               64.0  \n",
       "TTTGTTGTCGTTGCCT                9.0               37.0               84.0  \n",
       "TTTGTTGTCTACGGTA                6.0               20.0               58.0  \n",
       "TTTGTTGTCTAGTGTG                8.0               13.0               36.0  \n",
       "TTTGTTGTCTCTCTTC               10.0                7.0               47.0  \n",
       "\n",
       "[90910 rows x 6 columns]"
      ]
     },
     "execution_count": 23,
     "metadata": {},
     "output_type": "execute_result"
    }
   ],
   "source": [
    "data_2.to_df()"
   ]
  },
  {
   "cell_type": "code",
   "execution_count": null,
   "id": "c0b1d7c8",
   "metadata": {},
   "outputs": [],
   "source": []
  }
 ],
 "metadata": {
  "kernelspec": {
   "display_name": "Python 3 (ipykernel)",
   "language": "python",
   "name": "python3"
  },
  "language_info": {
   "codemirror_mode": {
    "name": "ipython",
    "version": 3
   },
   "file_extension": ".py",
   "mimetype": "text/x-python",
   "name": "python",
   "nbconvert_exporter": "python",
   "pygments_lexer": "ipython3",
   "version": "3.9.12"
  }
 },
 "nbformat": 4,
 "nbformat_minor": 5
}
