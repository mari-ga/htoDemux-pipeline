{
 "cells": [
  {
   "cell_type": "markdown",
   "id": "ba9095d5",
   "metadata": {},
   "source": [
    "<h1> Results Visualisation </h1>"
   ]
  },
  {
   "cell_type": "code",
   "execution_count": 32,
   "id": "4b4f9453",
   "metadata": {},
   "outputs": [],
   "source": [
    "import pandas as pd\n",
    "import matplotlib.pyplot as plt\n",
    "import numpy as np\n",
    "from collections import defaultdict\n",
    "from matplotlib import cm\n",
    "from upsetplot import UpSet"
   ]
  },
  {
   "cell_type": "markdown",
   "id": "38311842",
   "metadata": {},
   "source": [
    "<h3> Loading the results </h3>"
   ]
  },
  {
   "cell_type": "code",
   "execution_count": 2,
   "id": "ba18b11a",
   "metadata": {},
   "outputs": [],
   "source": [
    "htodemul_results = pd.read_csv(\"/Users/mylenemarianagonzalesandre/Development/Results/Original parameters/resultHTO.csv\")\n",
    "multiseq_results = pd.read_csv(\"/Users/mylenemarianagonzalesandre/Development/Results/Original parameters/resultMulti.csv\")\n",
    "hasheddrops_results = pd.read_csv(\"/Users/mylenemarianagonzalesandre/Development/Results/Original parameters/resultHashed.csv\")\n",
    "demuxem_results = pd.read_csv(\"/Users/mylenemarianagonzalesandre/Development/Results/Original parameters/output_demuxEM.csv\")"
   ]
  },
  {
   "cell_type": "markdown",
   "id": "370cb2ea",
   "metadata": {},
   "source": [
    "<h3> HTODemul results </h3>\n",
    "Data is transformed to dict to take part of a Dataframe later for plots"
   ]
  },
  {
   "cell_type": "code",
   "execution_count": 3,
   "id": "35db1dac",
   "metadata": {},
   "outputs": [
    {
     "data": {
      "text/html": [
       "<div>\n",
       "<style scoped>\n",
       "    .dataframe tbody tr th:only-of-type {\n",
       "        vertical-align: middle;\n",
       "    }\n",
       "\n",
       "    .dataframe tbody tr th {\n",
       "        vertical-align: top;\n",
       "    }\n",
       "\n",
       "    .dataframe thead th {\n",
       "        text-align: right;\n",
       "    }\n",
       "</style>\n",
       "<table border=\"1\" class=\"dataframe\">\n",
       "  <thead>\n",
       "    <tr style=\"text-align: right;\">\n",
       "      <th></th>\n",
       "      <th>hashtag</th>\n",
       "      <th>classification</th>\n",
       "    </tr>\n",
       "  </thead>\n",
       "  <tbody>\n",
       "    <tr>\n",
       "      <th>0</th>\n",
       "      <td>AAACCCAAGGTGTGAC-1</td>\n",
       "      <td>Singlet</td>\n",
       "    </tr>\n",
       "    <tr>\n",
       "      <th>1</th>\n",
       "      <td>AAACCCAGTGAGAGGG-1</td>\n",
       "      <td>Negative</td>\n",
       "    </tr>\n",
       "    <tr>\n",
       "      <th>2</th>\n",
       "      <td>AAACGAAAGAATCTAG-1</td>\n",
       "      <td>Negative</td>\n",
       "    </tr>\n",
       "    <tr>\n",
       "      <th>3</th>\n",
       "      <td>AAACGAACACATATGC-1</td>\n",
       "      <td>Negative</td>\n",
       "    </tr>\n",
       "    <tr>\n",
       "      <th>4</th>\n",
       "      <td>AAACGAACACGACTAT-1</td>\n",
       "      <td>Singlet</td>\n",
       "    </tr>\n",
       "  </tbody>\n",
       "</table>\n",
       "</div>"
      ],
      "text/plain": [
       "              hashtag classification\n",
       "0  AAACCCAAGGTGTGAC-1        Singlet\n",
       "1  AAACCCAGTGAGAGGG-1       Negative\n",
       "2  AAACGAAAGAATCTAG-1       Negative\n",
       "3  AAACGAACACATATGC-1       Negative\n",
       "4  AAACGAACACGACTAT-1        Singlet"
      ]
     },
     "execution_count": 3,
     "metadata": {},
     "output_type": "execute_result"
    }
   ],
   "source": [
    "htodemul_results.columns = [\"hashtag\",\"classification\"]\n",
    "htodemul_results.reset_index(drop=True)\n",
    "htodemul_results.head()"
   ]
  },
  {
   "cell_type": "code",
   "execution_count": 4,
   "id": "7faf260e",
   "metadata": {},
   "outputs": [],
   "source": [
    "htoDemul = htodemul_results['classification'].value_counts()\n",
    "htoDemul_dict = htoDemul.to_dict()\n",
    "htoDemul_dict['Algorithm'] = \"HTODemul\""
   ]
  },
  {
   "cell_type": "code",
   "execution_count": 5,
   "id": "5ec88192",
   "metadata": {},
   "outputs": [
    {
     "data": {
      "text/plain": [
       "{'Negative': 3205, 'Singlet': 1402, 'Doublet': 271, 'Algorithm': 'HTODemul'}"
      ]
     },
     "execution_count": 5,
     "metadata": {},
     "output_type": "execute_result"
    }
   ],
   "source": [
    "htoDemul_dict"
   ]
  },
  {
   "cell_type": "markdown",
   "id": "82bc1e4c",
   "metadata": {},
   "source": [
    "<h3> MULTI-seq results </h3>"
   ]
  },
  {
   "cell_type": "code",
   "execution_count": 6,
   "id": "b4c9014e",
   "metadata": {},
   "outputs": [
    {
     "data": {
      "text/html": [
       "<div>\n",
       "<style scoped>\n",
       "    .dataframe tbody tr th:only-of-type {\n",
       "        vertical-align: middle;\n",
       "    }\n",
       "\n",
       "    .dataframe tbody tr th {\n",
       "        vertical-align: top;\n",
       "    }\n",
       "\n",
       "    .dataframe thead th {\n",
       "        text-align: right;\n",
       "    }\n",
       "</style>\n",
       "<table border=\"1\" class=\"dataframe\">\n",
       "  <thead>\n",
       "    <tr style=\"text-align: right;\">\n",
       "      <th></th>\n",
       "      <th>hashtag</th>\n",
       "      <th>classification</th>\n",
       "    </tr>\n",
       "  </thead>\n",
       "  <tbody>\n",
       "    <tr>\n",
       "      <th>0</th>\n",
       "      <td>AAACCCAAGGTGTGAC-1</td>\n",
       "      <td>Hash454-TotalSeqA</td>\n",
       "    </tr>\n",
       "    <tr>\n",
       "      <th>1</th>\n",
       "      <td>AAACCCAGTGAGAGGG-1</td>\n",
       "      <td>Negative</td>\n",
       "    </tr>\n",
       "    <tr>\n",
       "      <th>2</th>\n",
       "      <td>AAACGAAAGAATCTAG-1</td>\n",
       "      <td>Hash455-TotalSeqA</td>\n",
       "    </tr>\n",
       "    <tr>\n",
       "      <th>3</th>\n",
       "      <td>AAACGAACACATATGC-1</td>\n",
       "      <td>Negative</td>\n",
       "    </tr>\n",
       "    <tr>\n",
       "      <th>4</th>\n",
       "      <td>AAACGAACACGACTAT-1</td>\n",
       "      <td>Hash452-TotalSeqA</td>\n",
       "    </tr>\n",
       "  </tbody>\n",
       "</table>\n",
       "</div>"
      ],
      "text/plain": [
       "              hashtag     classification\n",
       "0  AAACCCAAGGTGTGAC-1  Hash454-TotalSeqA\n",
       "1  AAACCCAGTGAGAGGG-1           Negative\n",
       "2  AAACGAAAGAATCTAG-1  Hash455-TotalSeqA\n",
       "3  AAACGAACACATATGC-1           Negative\n",
       "4  AAACGAACACGACTAT-1  Hash452-TotalSeqA"
      ]
     },
     "execution_count": 6,
     "metadata": {},
     "output_type": "execute_result"
    }
   ],
   "source": [
    "multiseq_results.columns = [\"hashtag\",\"classification\"]\n",
    "multiseq_results.head()"
   ]
  },
  {
   "cell_type": "code",
   "execution_count": 7,
   "id": "68d960ad",
   "metadata": {},
   "outputs": [],
   "source": [
    "multiseq = multiseq_results['classification'].value_counts()"
   ]
  },
  {
   "cell_type": "code",
   "execution_count": 8,
   "id": "c8776554",
   "metadata": {},
   "outputs": [
    {
     "data": {
      "text/plain": [
       "{'Negative': 2413,\n",
       " 'Doublet': 902,\n",
       " 'Hash454-TotalSeqA': 408,\n",
       " 'Hash451-TotalSeqA': 246,\n",
       " 'Hash452-TotalSeqA': 244,\n",
       " 'Hash455-TotalSeqA': 241,\n",
       " 'Hash456-TotalSeqA': 237,\n",
       " 'Hash453-TotalSeqA': 187}"
      ]
     },
     "execution_count": 8,
     "metadata": {},
     "output_type": "execute_result"
    }
   ],
   "source": [
    "multiseq_res_dict = multiseq.to_dict()\n",
    "multiseq_res_dict"
   ]
  },
  {
   "cell_type": "code",
   "execution_count": 38,
   "id": "162f3fd1",
   "metadata": {},
   "outputs": [],
   "source": [
    "multiseq_copy = multiseq_results.copy()\n"
   ]
  },
  {
   "cell_type": "code",
   "execution_count": 40,
   "id": "5cd79375",
   "metadata": {},
   "outputs": [
    {
     "data": {
      "text/html": [
       "<div>\n",
       "<style scoped>\n",
       "    .dataframe tbody tr th:only-of-type {\n",
       "        vertical-align: middle;\n",
       "    }\n",
       "\n",
       "    .dataframe tbody tr th {\n",
       "        vertical-align: top;\n",
       "    }\n",
       "\n",
       "    .dataframe thead th {\n",
       "        text-align: right;\n",
       "    }\n",
       "</style>\n",
       "<table border=\"1\" class=\"dataframe\">\n",
       "  <thead>\n",
       "    <tr style=\"text-align: right;\">\n",
       "      <th></th>\n",
       "      <th>hashtag</th>\n",
       "      <th>classification</th>\n",
       "    </tr>\n",
       "  </thead>\n",
       "  <tbody>\n",
       "    <tr>\n",
       "      <th>0</th>\n",
       "      <td>AAACCCAAGGTGTGAC-1</td>\n",
       "      <td>Singlet</td>\n",
       "    </tr>\n",
       "    <tr>\n",
       "      <th>1</th>\n",
       "      <td>AAACCCAGTGAGAGGG-1</td>\n",
       "      <td>Negative</td>\n",
       "    </tr>\n",
       "    <tr>\n",
       "      <th>2</th>\n",
       "      <td>AAACGAAAGAATCTAG-1</td>\n",
       "      <td>Hash455-TotalSeqA</td>\n",
       "    </tr>\n",
       "    <tr>\n",
       "      <th>3</th>\n",
       "      <td>AAACGAACACATATGC-1</td>\n",
       "      <td>Negative</td>\n",
       "    </tr>\n",
       "    <tr>\n",
       "      <th>4</th>\n",
       "      <td>AAACGAACACGACTAT-1</td>\n",
       "      <td>Hash452-TotalSeqA</td>\n",
       "    </tr>\n",
       "    <tr>\n",
       "      <th>...</th>\n",
       "      <td>...</td>\n",
       "      <td>...</td>\n",
       "    </tr>\n",
       "    <tr>\n",
       "      <th>4873</th>\n",
       "      <td>TTTGTTGAGTCCCAGC-1</td>\n",
       "      <td>Negative</td>\n",
       "    </tr>\n",
       "    <tr>\n",
       "      <th>4874</th>\n",
       "      <td>TTTGTTGCAGCGCGTT-1</td>\n",
       "      <td>Doublet</td>\n",
       "    </tr>\n",
       "    <tr>\n",
       "      <th>4875</th>\n",
       "      <td>TTTGTTGGTTATCTTC-1</td>\n",
       "      <td>Hash452-TotalSeqA</td>\n",
       "    </tr>\n",
       "    <tr>\n",
       "      <th>4876</th>\n",
       "      <td>TTTGTTGTCCAGTGTA-1</td>\n",
       "      <td>Singlet</td>\n",
       "    </tr>\n",
       "    <tr>\n",
       "      <th>4877</th>\n",
       "      <td>TTTGTTGTCGCTTAAG-1</td>\n",
       "      <td>Negative</td>\n",
       "    </tr>\n",
       "  </tbody>\n",
       "</table>\n",
       "<p>4878 rows × 2 columns</p>\n",
       "</div>"
      ],
      "text/plain": [
       "                 hashtag     classification\n",
       "0     AAACCCAAGGTGTGAC-1            Singlet\n",
       "1     AAACCCAGTGAGAGGG-1           Negative\n",
       "2     AAACGAAAGAATCTAG-1  Hash455-TotalSeqA\n",
       "3     AAACGAACACATATGC-1           Negative\n",
       "4     AAACGAACACGACTAT-1  Hash452-TotalSeqA\n",
       "...                  ...                ...\n",
       "4873  TTTGTTGAGTCCCAGC-1           Negative\n",
       "4874  TTTGTTGCAGCGCGTT-1            Doublet\n",
       "4875  TTTGTTGGTTATCTTC-1  Hash452-TotalSeqA\n",
       "4876  TTTGTTGTCCAGTGTA-1            Singlet\n",
       "4877  TTTGTTGTCGCTTAAG-1           Negative\n",
       "\n",
       "[4878 rows x 2 columns]"
      ]
     },
     "execution_count": 40,
     "metadata": {},
     "output_type": "execute_result"
    }
   ],
   "source": [
    "multiseq_copy.loc[(multiseq_copy.classification == 'Hash454-TotalSeqA'),'classification']='Singlet'\n",
    "multiseq_copy\n"
   ]
  },
  {
   "cell_type": "code",
   "execution_count": 46,
   "id": "7dc766a9",
   "metadata": {},
   "outputs": [
    {
     "data": {
      "text/html": [
       "<div>\n",
       "<style scoped>\n",
       "    .dataframe tbody tr th:only-of-type {\n",
       "        vertical-align: middle;\n",
       "    }\n",
       "\n",
       "    .dataframe tbody tr th {\n",
       "        vertical-align: top;\n",
       "    }\n",
       "\n",
       "    .dataframe thead th {\n",
       "        text-align: right;\n",
       "    }\n",
       "</style>\n",
       "<table border=\"1\" class=\"dataframe\">\n",
       "  <thead>\n",
       "    <tr style=\"text-align: right;\">\n",
       "      <th></th>\n",
       "      <th>hashtag</th>\n",
       "      <th>classification</th>\n",
       "    </tr>\n",
       "  </thead>\n",
       "  <tbody>\n",
       "    <tr>\n",
       "      <th>0</th>\n",
       "      <td>AAACCCAAGGTGTGAC-1</td>\n",
       "      <td>Singlet</td>\n",
       "    </tr>\n",
       "    <tr>\n",
       "      <th>1</th>\n",
       "      <td>AAACCCAGTGAGAGGG-1</td>\n",
       "      <td>Negative</td>\n",
       "    </tr>\n",
       "    <tr>\n",
       "      <th>2</th>\n",
       "      <td>AAACGAAAGAATCTAG-1</td>\n",
       "      <td>Singlet</td>\n",
       "    </tr>\n",
       "    <tr>\n",
       "      <th>3</th>\n",
       "      <td>AAACGAACACATATGC-1</td>\n",
       "      <td>Negative</td>\n",
       "    </tr>\n",
       "    <tr>\n",
       "      <th>4</th>\n",
       "      <td>AAACGAACACGACTAT-1</td>\n",
       "      <td>Singlet</td>\n",
       "    </tr>\n",
       "    <tr>\n",
       "      <th>...</th>\n",
       "      <td>...</td>\n",
       "      <td>...</td>\n",
       "    </tr>\n",
       "    <tr>\n",
       "      <th>4873</th>\n",
       "      <td>TTTGTTGAGTCCCAGC-1</td>\n",
       "      <td>Negative</td>\n",
       "    </tr>\n",
       "    <tr>\n",
       "      <th>4874</th>\n",
       "      <td>TTTGTTGCAGCGCGTT-1</td>\n",
       "      <td>Doublet</td>\n",
       "    </tr>\n",
       "    <tr>\n",
       "      <th>4875</th>\n",
       "      <td>TTTGTTGGTTATCTTC-1</td>\n",
       "      <td>Singlet</td>\n",
       "    </tr>\n",
       "    <tr>\n",
       "      <th>4876</th>\n",
       "      <td>TTTGTTGTCCAGTGTA-1</td>\n",
       "      <td>Singlet</td>\n",
       "    </tr>\n",
       "    <tr>\n",
       "      <th>4877</th>\n",
       "      <td>TTTGTTGTCGCTTAAG-1</td>\n",
       "      <td>Negative</td>\n",
       "    </tr>\n",
       "  </tbody>\n",
       "</table>\n",
       "<p>4878 rows × 2 columns</p>\n",
       "</div>"
      ],
      "text/plain": [
       "                 hashtag classification\n",
       "0     AAACCCAAGGTGTGAC-1        Singlet\n",
       "1     AAACCCAGTGAGAGGG-1       Negative\n",
       "2     AAACGAAAGAATCTAG-1        Singlet\n",
       "3     AAACGAACACATATGC-1       Negative\n",
       "4     AAACGAACACGACTAT-1        Singlet\n",
       "...                  ...            ...\n",
       "4873  TTTGTTGAGTCCCAGC-1       Negative\n",
       "4874  TTTGTTGCAGCGCGTT-1        Doublet\n",
       "4875  TTTGTTGGTTATCTTC-1        Singlet\n",
       "4876  TTTGTTGTCCAGTGTA-1        Singlet\n",
       "4877  TTTGTTGTCGCTTAAG-1       Negative\n",
       "\n",
       "[4878 rows x 2 columns]"
      ]
     },
     "execution_count": 46,
     "metadata": {},
     "output_type": "execute_result"
    }
   ],
   "source": [
    "multiseq_copy.loc[(multiseq_copy.classification == 'Hash453-TotalSeqA'),'classification']='Singlet'\n",
    "multiseq_copy"
   ]
  },
  {
   "cell_type": "code",
   "execution_count": 9,
   "id": "a415d471",
   "metadata": {},
   "outputs": [
    {
     "name": "stderr",
     "output_type": "stream",
     "text": [
      "/var/folders/10/sfmvfl9139b7z3wwbq1j88gr0000gn/T/ipykernel_20245/3548750218.py:1: DeprecationWarning: Calling np.sum(generator) is deprecated, and in the future will give a different result. Use np.sum(np.fromiter(generator)) or the python sum builtin instead.\n",
      "  multi_singlets = np.sum(value for key, value in multiseq_res_dict.items() if key != 'Doublet' or 'Negative')\n"
     ]
    }
   ],
   "source": [
    "multi_singlets = np.sum(value for key, value in multiseq_res_dict.items() if key != 'Doublet' or 'Negative')"
   ]
  },
  {
   "cell_type": "code",
   "execution_count": 10,
   "id": "3ae18208",
   "metadata": {},
   "outputs": [],
   "source": [
    "multiseq_dict = dict()\n",
    "multiseq_dict['Singlet'] = multi_singlets"
   ]
  },
  {
   "cell_type": "code",
   "execution_count": 11,
   "id": "cbb3c9b8",
   "metadata": {},
   "outputs": [],
   "source": [
    "multiseq_dict['Doublet'] = multiseq_res_dict['Doublet']"
   ]
  },
  {
   "cell_type": "code",
   "execution_count": 12,
   "id": "3758f490",
   "metadata": {},
   "outputs": [],
   "source": [
    "multiseq_dict['Negative'] = 0"
   ]
  },
  {
   "cell_type": "code",
   "execution_count": 13,
   "id": "55f83bc6",
   "metadata": {},
   "outputs": [],
   "source": [
    "multiseq_dict['Algorithm'] = \"MULTI-Seq\""
   ]
  },
  {
   "cell_type": "code",
   "execution_count": 14,
   "id": "099219b8",
   "metadata": {},
   "outputs": [
    {
     "data": {
      "text/plain": [
       "{'Singlet': 4878, 'Doublet': 902, 'Negative': 0, 'Algorithm': 'MULTI-Seq'}"
      ]
     },
     "execution_count": 14,
     "metadata": {},
     "output_type": "execute_result"
    }
   ],
   "source": [
    "multiseq_dict"
   ]
  },
  {
   "cell_type": "markdown",
   "id": "2462e5e0",
   "metadata": {},
   "source": [
    "<h3> Hashed Drops Resuls </h3>"
   ]
  },
  {
   "cell_type": "code",
   "execution_count": 15,
   "id": "7330f5d7",
   "metadata": {},
   "outputs": [
    {
     "data": {
      "text/html": [
       "<div>\n",
       "<style scoped>\n",
       "    .dataframe tbody tr th:only-of-type {\n",
       "        vertical-align: middle;\n",
       "    }\n",
       "\n",
       "    .dataframe tbody tr th {\n",
       "        vertical-align: top;\n",
       "    }\n",
       "\n",
       "    .dataframe thead th {\n",
       "        text-align: right;\n",
       "    }\n",
       "</style>\n",
       "<table border=\"1\" class=\"dataframe\">\n",
       "  <thead>\n",
       "    <tr style=\"text-align: right;\">\n",
       "      <th></th>\n",
       "      <th>hashtag</th>\n",
       "      <th>Total</th>\n",
       "      <th>Best</th>\n",
       "      <th>Second</th>\n",
       "      <th>LogFC</th>\n",
       "      <th>LogFC2</th>\n",
       "      <th>Doublet</th>\n",
       "      <th>Singlet</th>\n",
       "    </tr>\n",
       "  </thead>\n",
       "  <tbody>\n",
       "    <tr>\n",
       "      <th>0</th>\n",
       "      <td>AAACCCAAGGTGTGAC-1</td>\n",
       "      <td>702</td>\n",
       "      <td>3</td>\n",
       "      <td>4</td>\n",
       "      <td>0.012021</td>\n",
       "      <td>0.329709</td>\n",
       "      <td>False</td>\n",
       "      <td>False</td>\n",
       "    </tr>\n",
       "    <tr>\n",
       "      <th>1</th>\n",
       "      <td>AAACCCAGTGAGAGGG-1</td>\n",
       "      <td>624</td>\n",
       "      <td>3</td>\n",
       "      <td>5</td>\n",
       "      <td>1.452952</td>\n",
       "      <td>0.091920</td>\n",
       "      <td>False</td>\n",
       "      <td>False</td>\n",
       "    </tr>\n",
       "    <tr>\n",
       "      <th>2</th>\n",
       "      <td>AAACGAAAGAATCTAG-1</td>\n",
       "      <td>775</td>\n",
       "      <td>3</td>\n",
       "      <td>5</td>\n",
       "      <td>0.939847</td>\n",
       "      <td>0.095805</td>\n",
       "      <td>False</td>\n",
       "      <td>False</td>\n",
       "    </tr>\n",
       "    <tr>\n",
       "      <th>3</th>\n",
       "      <td>AAACGAACACATATGC-1</td>\n",
       "      <td>710</td>\n",
       "      <td>3</td>\n",
       "      <td>6</td>\n",
       "      <td>0.710428</td>\n",
       "      <td>0.027963</td>\n",
       "      <td>False</td>\n",
       "      <td>False</td>\n",
       "    </tr>\n",
       "    <tr>\n",
       "      <th>4</th>\n",
       "      <td>AAACGAACACGACTAT-1</td>\n",
       "      <td>869</td>\n",
       "      <td>2</td>\n",
       "      <td>3</td>\n",
       "      <td>0.117329</td>\n",
       "      <td>0.355157</td>\n",
       "      <td>False</td>\n",
       "      <td>False</td>\n",
       "    </tr>\n",
       "  </tbody>\n",
       "</table>\n",
       "</div>"
      ],
      "text/plain": [
       "              hashtag  Total  Best  Second     LogFC    LogFC2  Doublet  \\\n",
       "0  AAACCCAAGGTGTGAC-1    702     3       4  0.012021  0.329709    False   \n",
       "1  AAACCCAGTGAGAGGG-1    624     3       5  1.452952  0.091920    False   \n",
       "2  AAACGAAAGAATCTAG-1    775     3       5  0.939847  0.095805    False   \n",
       "3  AAACGAACACATATGC-1    710     3       6  0.710428  0.027963    False   \n",
       "4  AAACGAACACGACTAT-1    869     2       3  0.117329  0.355157    False   \n",
       "\n",
       "   Singlet  \n",
       "0    False  \n",
       "1    False  \n",
       "2    False  \n",
       "3    False  \n",
       "4    False  "
      ]
     },
     "execution_count": 15,
     "metadata": {},
     "output_type": "execute_result"
    }
   ],
   "source": [
    "hasheddrops_results=hasheddrops_results.rename(columns = {'Confident':'Singlet','Unnamed: 0':'hashtag'})\n",
    "hasheddrops_results.head()"
   ]
  },
  {
   "cell_type": "code",
   "execution_count": 16,
   "id": "2eb09994",
   "metadata": {},
   "outputs": [],
   "source": [
    "drops_count_singlets = hasheddrops_results['Singlet'].value_counts()\n",
    "drops_count_doublets = hasheddrops_results['Doublet'].value_counts()"
   ]
  },
  {
   "cell_type": "code",
   "execution_count": 17,
   "id": "60fe40b0",
   "metadata": {},
   "outputs": [
    {
     "data": {
      "text/plain": [
       "False    4828\n",
       "True       50\n",
       "Name: Singlet, dtype: int64"
      ]
     },
     "execution_count": 17,
     "metadata": {},
     "output_type": "execute_result"
    }
   ],
   "source": [
    "drops_count_singlets"
   ]
  },
  {
   "cell_type": "code",
   "execution_count": 18,
   "id": "0d69121b",
   "metadata": {},
   "outputs": [
    {
     "data": {
      "text/plain": [
       "False    4877\n",
       "True        1\n",
       "Name: Doublet, dtype: int64"
      ]
     },
     "execution_count": 18,
     "metadata": {},
     "output_type": "execute_result"
    }
   ],
   "source": [
    "drops_count_doublets"
   ]
  },
  {
   "cell_type": "code",
   "execution_count": 19,
   "id": "ea601972",
   "metadata": {},
   "outputs": [
    {
     "data": {
      "text/plain": [
       "4827"
      ]
     },
     "execution_count": 19,
     "metadata": {},
     "output_type": "execute_result"
    }
   ],
   "source": [
    "drops_count_singlets.to_dict()\n",
    "drops_count_doublets.to_dict()\n",
    "b= drops_count_singlets[True] + drops_count_singlets[False]\n",
    "a = drops_count_singlets[True]+drops_count_doublets[True]\n",
    "c = b - a\n",
    "c\n",
    "#Necesito crear un dict que contenga los 3, neg doub, sing"
   ]
  },
  {
   "cell_type": "code",
   "execution_count": 20,
   "id": "f2a1ea27",
   "metadata": {},
   "outputs": [],
   "source": [
    "drop_dict = dict()\n",
    "drop_dict['Singlet'] = drops_count_singlets[True]\n",
    "drop_dict['Doublet'] = drops_count_doublets[True]\n",
    "drop_dict['Negative'] = c\n",
    "drop_dict['Algorithm'] = 'Hashed Drops'"
   ]
  },
  {
   "cell_type": "code",
   "execution_count": 50,
   "id": "201350c7",
   "metadata": {},
   "outputs": [
    {
     "data": {
      "text/plain": [
       "{'Singlet': 50, 'Doublet': 1, 'Negative': 4827, 'Algorithm': 'Hashed Drops'}"
      ]
     },
     "execution_count": 50,
     "metadata": {},
     "output_type": "execute_result"
    }
   ],
   "source": [
    "drop_dict"
   ]
  },
  {
   "cell_type": "code",
   "execution_count": 51,
   "id": "fdeca163",
   "metadata": {},
   "outputs": [],
   "source": [
    "hashed_drops = pd.DataFrame()\n",
    "hashed_drops['hashtag'] = hasheddrops_results['hashtag']\n",
    "hashed_drops['Singlet'] = hasheddrops_results['Singlet']\n",
    "hashed_drops['Doublet'] = hasheddrops_results['Doublet']"
   ]
  },
  {
   "cell_type": "code",
   "execution_count": 52,
   "id": "4b470d43",
   "metadata": {},
   "outputs": [
    {
     "data": {
      "text/html": [
       "<div>\n",
       "<style scoped>\n",
       "    .dataframe tbody tr th:only-of-type {\n",
       "        vertical-align: middle;\n",
       "    }\n",
       "\n",
       "    .dataframe tbody tr th {\n",
       "        vertical-align: top;\n",
       "    }\n",
       "\n",
       "    .dataframe thead th {\n",
       "        text-align: right;\n",
       "    }\n",
       "</style>\n",
       "<table border=\"1\" class=\"dataframe\">\n",
       "  <thead>\n",
       "    <tr style=\"text-align: right;\">\n",
       "      <th></th>\n",
       "      <th>hashtag</th>\n",
       "      <th>Singlet</th>\n",
       "      <th>Doublet</th>\n",
       "    </tr>\n",
       "  </thead>\n",
       "  <tbody>\n",
       "    <tr>\n",
       "      <th>0</th>\n",
       "      <td>AAACCCAAGGTGTGAC-1</td>\n",
       "      <td>False</td>\n",
       "      <td>False</td>\n",
       "    </tr>\n",
       "    <tr>\n",
       "      <th>1</th>\n",
       "      <td>AAACCCAGTGAGAGGG-1</td>\n",
       "      <td>False</td>\n",
       "      <td>False</td>\n",
       "    </tr>\n",
       "    <tr>\n",
       "      <th>2</th>\n",
       "      <td>AAACGAAAGAATCTAG-1</td>\n",
       "      <td>False</td>\n",
       "      <td>False</td>\n",
       "    </tr>\n",
       "    <tr>\n",
       "      <th>3</th>\n",
       "      <td>AAACGAACACATATGC-1</td>\n",
       "      <td>False</td>\n",
       "      <td>False</td>\n",
       "    </tr>\n",
       "    <tr>\n",
       "      <th>4</th>\n",
       "      <td>AAACGAACACGACTAT-1</td>\n",
       "      <td>False</td>\n",
       "      <td>False</td>\n",
       "    </tr>\n",
       "    <tr>\n",
       "      <th>...</th>\n",
       "      <td>...</td>\n",
       "      <td>...</td>\n",
       "      <td>...</td>\n",
       "    </tr>\n",
       "    <tr>\n",
       "      <th>4873</th>\n",
       "      <td>TTTGTTGAGTCCCAGC-1</td>\n",
       "      <td>False</td>\n",
       "      <td>False</td>\n",
       "    </tr>\n",
       "    <tr>\n",
       "      <th>4874</th>\n",
       "      <td>TTTGTTGCAGCGCGTT-1</td>\n",
       "      <td>False</td>\n",
       "      <td>False</td>\n",
       "    </tr>\n",
       "    <tr>\n",
       "      <th>4875</th>\n",
       "      <td>TTTGTTGGTTATCTTC-1</td>\n",
       "      <td>False</td>\n",
       "      <td>False</td>\n",
       "    </tr>\n",
       "    <tr>\n",
       "      <th>4876</th>\n",
       "      <td>TTTGTTGTCCAGTGTA-1</td>\n",
       "      <td>False</td>\n",
       "      <td>False</td>\n",
       "    </tr>\n",
       "    <tr>\n",
       "      <th>4877</th>\n",
       "      <td>TTTGTTGTCGCTTAAG-1</td>\n",
       "      <td>False</td>\n",
       "      <td>False</td>\n",
       "    </tr>\n",
       "  </tbody>\n",
       "</table>\n",
       "<p>4878 rows × 3 columns</p>\n",
       "</div>"
      ],
      "text/plain": [
       "                 hashtag  Singlet  Doublet\n",
       "0     AAACCCAAGGTGTGAC-1    False    False\n",
       "1     AAACCCAGTGAGAGGG-1    False    False\n",
       "2     AAACGAAAGAATCTAG-1    False    False\n",
       "3     AAACGAACACATATGC-1    False    False\n",
       "4     AAACGAACACGACTAT-1    False    False\n",
       "...                  ...      ...      ...\n",
       "4873  TTTGTTGAGTCCCAGC-1    False    False\n",
       "4874  TTTGTTGCAGCGCGTT-1    False    False\n",
       "4875  TTTGTTGGTTATCTTC-1    False    False\n",
       "4876  TTTGTTGTCCAGTGTA-1    False    False\n",
       "4877  TTTGTTGTCGCTTAAG-1    False    False\n",
       "\n",
       "[4878 rows x 3 columns]"
      ]
     },
     "execution_count": 52,
     "metadata": {},
     "output_type": "execute_result"
    }
   ],
   "source": [
    "hashed_drops"
   ]
  },
  {
   "cell_type": "code",
   "execution_count": 53,
   "id": "70c1e5c5",
   "metadata": {},
   "outputs": [
    {
     "ename": "ValueError",
     "evalue": "either both or neither of x and y should be given",
     "output_type": "error",
     "traceback": [
      "\u001b[0;31m---------------------------------------------------------------------------\u001b[0m",
      "\u001b[0;31mValueError\u001b[0m                                Traceback (most recent call last)",
      "Input \u001b[0;32mIn [53]\u001b[0m, in \u001b[0;36m<cell line: 1>\u001b[0;34m()\u001b[0m\n\u001b[0;32m----> 1\u001b[0m hashed_drops[\u001b[38;5;124m'\u001b[39m\u001b[38;5;124mclassification\u001b[39m\u001b[38;5;124m'\u001b[39m] \u001b[38;5;241m=\u001b[39m \u001b[43mnp\u001b[49m\u001b[38;5;241;43m.\u001b[39;49m\u001b[43mwhere\u001b[49m\u001b[43m(\u001b[49m\u001b[43m(\u001b[49m\u001b[43mhashed_drops\u001b[49m\u001b[43m[\u001b[49m\u001b[38;5;124;43m'\u001b[39;49m\u001b[38;5;124;43mSinglet\u001b[39;49m\u001b[38;5;124;43m'\u001b[39;49m\u001b[43m]\u001b[49m\u001b[43m \u001b[49m\u001b[38;5;241;43m==\u001b[39;49m\u001b[43m \u001b[49m\u001b[43mhashed_drops\u001b[49m\u001b[43m[\u001b[49m\u001b[38;5;124;43m'\u001b[39;49m\u001b[38;5;124;43mDoublet\u001b[39;49m\u001b[38;5;124;43m'\u001b[39;49m\u001b[43m]\u001b[49m\u001b[43m)\u001b[49m\u001b[43m,\u001b[49m\u001b[38;5;124;43m\"\u001b[39;49m\u001b[38;5;124;43mNegative\u001b[39;49m\u001b[38;5;124;43m\"\u001b[39;49m\u001b[43m)\u001b[49m\n",
      "File \u001b[0;32m<__array_function__ internals>:180\u001b[0m, in \u001b[0;36mwhere\u001b[0;34m(*args, **kwargs)\u001b[0m\n",
      "\u001b[0;31mValueError\u001b[0m: either both or neither of x and y should be given"
     ]
    }
   ],
   "source": [
    "hashed_drops['classification'] = np.where((hashed_drops['Singlet'] == hashed_drops['Doublet']),\"Negative\")"
   ]
  },
  {
   "cell_type": "markdown",
   "id": "cf34b4e8",
   "metadata": {},
   "source": [
    "<h3> DemuxEM - results </h3>"
   ]
  },
  {
   "cell_type": "code",
   "execution_count": 21,
   "id": "39418cd9",
   "metadata": {},
   "outputs": [
    {
     "data": {
      "text/html": [
       "<div>\n",
       "<style scoped>\n",
       "    .dataframe tbody tr th:only-of-type {\n",
       "        vertical-align: middle;\n",
       "    }\n",
       "\n",
       "    .dataframe tbody tr th {\n",
       "        vertical-align: top;\n",
       "    }\n",
       "\n",
       "    .dataframe thead th {\n",
       "        text-align: right;\n",
       "    }\n",
       "</style>\n",
       "<table border=\"1\" class=\"dataframe\">\n",
       "  <thead>\n",
       "    <tr style=\"text-align: right;\">\n",
       "      <th></th>\n",
       "      <th>barcodekey</th>\n",
       "      <th>Channel</th>\n",
       "      <th>demux_type</th>\n",
       "      <th>assignment</th>\n",
       "    </tr>\n",
       "  </thead>\n",
       "  <tbody>\n",
       "    <tr>\n",
       "      <th>0</th>\n",
       "      <td>AAACCCAAGGTGTGAC</td>\n",
       "      <td>NaN</td>\n",
       "      <td>doublet</td>\n",
       "      <td>Hash451_TotalSeqA,Hash454_TotalSeqA</td>\n",
       "    </tr>\n",
       "    <tr>\n",
       "      <th>1</th>\n",
       "      <td>AAACCCAGTGAGAGGG</td>\n",
       "      <td>NaN</td>\n",
       "      <td>singlet</td>\n",
       "      <td>Hash453_TotalSeqA</td>\n",
       "    </tr>\n",
       "    <tr>\n",
       "      <th>2</th>\n",
       "      <td>AAACGAAAGAATCTAG</td>\n",
       "      <td>NaN</td>\n",
       "      <td>unknown</td>\n",
       "      <td>NaN</td>\n",
       "    </tr>\n",
       "    <tr>\n",
       "      <th>3</th>\n",
       "      <td>AAACGAACACATATGC</td>\n",
       "      <td>NaN</td>\n",
       "      <td>unknown</td>\n",
       "      <td>NaN</td>\n",
       "    </tr>\n",
       "    <tr>\n",
       "      <th>4</th>\n",
       "      <td>AAACGAACACGACTAT</td>\n",
       "      <td>NaN</td>\n",
       "      <td>singlet</td>\n",
       "      <td>Hash452_TotalSeqA</td>\n",
       "    </tr>\n",
       "  </tbody>\n",
       "</table>\n",
       "</div>"
      ],
      "text/plain": [
       "         barcodekey  Channel demux_type                           assignment\n",
       "0  AAACCCAAGGTGTGAC      NaN    doublet  Hash451_TotalSeqA,Hash454_TotalSeqA\n",
       "1  AAACCCAGTGAGAGGG      NaN    singlet                    Hash453_TotalSeqA\n",
       "2  AAACGAAAGAATCTAG      NaN    unknown                                  NaN\n",
       "3  AAACGAACACATATGC      NaN    unknown                                  NaN\n",
       "4  AAACGAACACGACTAT      NaN    singlet                    Hash452_TotalSeqA"
      ]
     },
     "execution_count": 21,
     "metadata": {},
     "output_type": "execute_result"
    }
   ],
   "source": [
    "demuxem_results.head()"
   ]
  },
  {
   "cell_type": "code",
   "execution_count": 22,
   "id": "ac93166f",
   "metadata": {},
   "outputs": [],
   "source": [
    "demux = demuxem_results['demux_type'].value_counts()"
   ]
  },
  {
   "cell_type": "code",
   "execution_count": 23,
   "id": "7a7506a9",
   "metadata": {},
   "outputs": [
    {
     "data": {
      "text/plain": [
       "{'unknown': 2446, 'singlet': 1929, 'doublet': 514}"
      ]
     },
     "execution_count": 23,
     "metadata": {},
     "output_type": "execute_result"
    }
   ],
   "source": [
    "demux_res_dict = demux.to_dict()\n",
    "demux_res_dict"
   ]
  },
  {
   "cell_type": "code",
   "execution_count": 24,
   "id": "37708a80",
   "metadata": {},
   "outputs": [],
   "source": [
    "demux_res_dict[\"Negative\"] = demux_res_dict.pop(\"unknown\")\n",
    "demux_res_dict[\"Singlet\"] = demux_res_dict.pop(\"singlet\")\n",
    "demux_res_dict[\"Doublet\"] = demux_res_dict.pop(\"doublet\")"
   ]
  },
  {
   "cell_type": "code",
   "execution_count": 25,
   "id": "28959cf6",
   "metadata": {},
   "outputs": [],
   "source": [
    "demux_res_dict['Algorithm'] = \"DemuxEM\""
   ]
  },
  {
   "cell_type": "code",
   "execution_count": 26,
   "id": "30272f03",
   "metadata": {},
   "outputs": [
    {
     "data": {
      "text/plain": [
       "{'Negative': 2446, 'Singlet': 1929, 'Doublet': 514, 'Algorithm': 'DemuxEM'}"
      ]
     },
     "execution_count": 26,
     "metadata": {},
     "output_type": "execute_result"
    }
   ],
   "source": [
    "demux_res_dict"
   ]
  },
  {
   "cell_type": "code",
   "execution_count": 59,
   "id": "1899d248",
   "metadata": {},
   "outputs": [
    {
     "data": {
      "text/html": [
       "<div>\n",
       "<style scoped>\n",
       "    .dataframe tbody tr th:only-of-type {\n",
       "        vertical-align: middle;\n",
       "    }\n",
       "\n",
       "    .dataframe tbody tr th {\n",
       "        vertical-align: top;\n",
       "    }\n",
       "\n",
       "    .dataframe thead th {\n",
       "        text-align: right;\n",
       "    }\n",
       "</style>\n",
       "<table border=\"1\" class=\"dataframe\">\n",
       "  <thead>\n",
       "    <tr style=\"text-align: right;\">\n",
       "      <th></th>\n",
       "      <th>hashtag</th>\n",
       "      <th>classification</th>\n",
       "    </tr>\n",
       "  </thead>\n",
       "  <tbody>\n",
       "    <tr>\n",
       "      <th>0</th>\n",
       "      <td>AAACCCAAGGTGTGAC</td>\n",
       "      <td>doublet</td>\n",
       "    </tr>\n",
       "    <tr>\n",
       "      <th>1</th>\n",
       "      <td>AAACCCAGTGAGAGGG</td>\n",
       "      <td>singlet</td>\n",
       "    </tr>\n",
       "    <tr>\n",
       "      <th>2</th>\n",
       "      <td>AAACGAAAGAATCTAG</td>\n",
       "      <td>unknown</td>\n",
       "    </tr>\n",
       "    <tr>\n",
       "      <th>3</th>\n",
       "      <td>AAACGAACACATATGC</td>\n",
       "      <td>unknown</td>\n",
       "    </tr>\n",
       "    <tr>\n",
       "      <th>4</th>\n",
       "      <td>AAACGAACACGACTAT</td>\n",
       "      <td>singlet</td>\n",
       "    </tr>\n",
       "    <tr>\n",
       "      <th>...</th>\n",
       "      <td>...</td>\n",
       "      <td>...</td>\n",
       "    </tr>\n",
       "    <tr>\n",
       "      <th>4884</th>\n",
       "      <td>TTTGTTGAGTCCCAGC</td>\n",
       "      <td>unknown</td>\n",
       "    </tr>\n",
       "    <tr>\n",
       "      <th>4885</th>\n",
       "      <td>TTTGTTGCAGCGCGTT</td>\n",
       "      <td>singlet</td>\n",
       "    </tr>\n",
       "    <tr>\n",
       "      <th>4886</th>\n",
       "      <td>TTTGTTGGTTATCTTC</td>\n",
       "      <td>unknown</td>\n",
       "    </tr>\n",
       "    <tr>\n",
       "      <th>4887</th>\n",
       "      <td>TTTGTTGTCCAGTGTA</td>\n",
       "      <td>singlet</td>\n",
       "    </tr>\n",
       "    <tr>\n",
       "      <th>4888</th>\n",
       "      <td>TTTGTTGTCGCTTAAG</td>\n",
       "      <td>unknown</td>\n",
       "    </tr>\n",
       "  </tbody>\n",
       "</table>\n",
       "<p>4889 rows × 2 columns</p>\n",
       "</div>"
      ],
      "text/plain": [
       "               hashtag classification\n",
       "0     AAACCCAAGGTGTGAC        doublet\n",
       "1     AAACCCAGTGAGAGGG        singlet\n",
       "2     AAACGAAAGAATCTAG        unknown\n",
       "3     AAACGAACACATATGC        unknown\n",
       "4     AAACGAACACGACTAT        singlet\n",
       "...                ...            ...\n",
       "4884  TTTGTTGAGTCCCAGC        unknown\n",
       "4885  TTTGTTGCAGCGCGTT        singlet\n",
       "4886  TTTGTTGGTTATCTTC        unknown\n",
       "4887  TTTGTTGTCCAGTGTA        singlet\n",
       "4888  TTTGTTGTCGCTTAAG        unknown\n",
       "\n",
       "[4889 rows x 2 columns]"
      ]
     },
     "execution_count": 59,
     "metadata": {},
     "output_type": "execute_result"
    }
   ],
   "source": [
    "demux_em = pd.DataFrame()\n",
    "demux_em['hashtag'] = demuxem_results['barcodekey']\n",
    "demux_em['classification'] = demuxem_results['demux_type']\n",
    "demux_em"
   ]
  },
  {
   "cell_type": "code",
   "execution_count": 62,
   "id": "98dd080b",
   "metadata": {},
   "outputs": [
    {
     "data": {
      "text/html": [
       "<div>\n",
       "<style scoped>\n",
       "    .dataframe tbody tr th:only-of-type {\n",
       "        vertical-align: middle;\n",
       "    }\n",
       "\n",
       "    .dataframe tbody tr th {\n",
       "        vertical-align: top;\n",
       "    }\n",
       "\n",
       "    .dataframe thead th {\n",
       "        text-align: right;\n",
       "    }\n",
       "</style>\n",
       "<table border=\"1\" class=\"dataframe\">\n",
       "  <thead>\n",
       "    <tr style=\"text-align: right;\">\n",
       "      <th></th>\n",
       "      <th>hashtag</th>\n",
       "      <th>classification</th>\n",
       "    </tr>\n",
       "  </thead>\n",
       "  <tbody>\n",
       "    <tr>\n",
       "      <th>0</th>\n",
       "      <td>AAACCCAAGGTGTGAC</td>\n",
       "      <td>Doublet</td>\n",
       "    </tr>\n",
       "    <tr>\n",
       "      <th>1</th>\n",
       "      <td>AAACCCAGTGAGAGGG</td>\n",
       "      <td>Singlet</td>\n",
       "    </tr>\n",
       "    <tr>\n",
       "      <th>2</th>\n",
       "      <td>AAACGAAAGAATCTAG</td>\n",
       "      <td>Negative</td>\n",
       "    </tr>\n",
       "    <tr>\n",
       "      <th>3</th>\n",
       "      <td>AAACGAACACATATGC</td>\n",
       "      <td>Negative</td>\n",
       "    </tr>\n",
       "    <tr>\n",
       "      <th>4</th>\n",
       "      <td>AAACGAACACGACTAT</td>\n",
       "      <td>Singlet</td>\n",
       "    </tr>\n",
       "    <tr>\n",
       "      <th>...</th>\n",
       "      <td>...</td>\n",
       "      <td>...</td>\n",
       "    </tr>\n",
       "    <tr>\n",
       "      <th>4884</th>\n",
       "      <td>TTTGTTGAGTCCCAGC</td>\n",
       "      <td>Negative</td>\n",
       "    </tr>\n",
       "    <tr>\n",
       "      <th>4885</th>\n",
       "      <td>TTTGTTGCAGCGCGTT</td>\n",
       "      <td>Singlet</td>\n",
       "    </tr>\n",
       "    <tr>\n",
       "      <th>4886</th>\n",
       "      <td>TTTGTTGGTTATCTTC</td>\n",
       "      <td>Negative</td>\n",
       "    </tr>\n",
       "    <tr>\n",
       "      <th>4887</th>\n",
       "      <td>TTTGTTGTCCAGTGTA</td>\n",
       "      <td>Singlet</td>\n",
       "    </tr>\n",
       "    <tr>\n",
       "      <th>4888</th>\n",
       "      <td>TTTGTTGTCGCTTAAG</td>\n",
       "      <td>Negative</td>\n",
       "    </tr>\n",
       "  </tbody>\n",
       "</table>\n",
       "<p>4889 rows × 2 columns</p>\n",
       "</div>"
      ],
      "text/plain": [
       "               hashtag classification\n",
       "0     AAACCCAAGGTGTGAC        Doublet\n",
       "1     AAACCCAGTGAGAGGG        Singlet\n",
       "2     AAACGAAAGAATCTAG       Negative\n",
       "3     AAACGAACACATATGC       Negative\n",
       "4     AAACGAACACGACTAT        Singlet\n",
       "...                ...            ...\n",
       "4884  TTTGTTGAGTCCCAGC       Negative\n",
       "4885  TTTGTTGCAGCGCGTT        Singlet\n",
       "4886  TTTGTTGGTTATCTTC       Negative\n",
       "4887  TTTGTTGTCCAGTGTA        Singlet\n",
       "4888  TTTGTTGTCGCTTAAG       Negative\n",
       "\n",
       "[4889 rows x 2 columns]"
      ]
     },
     "execution_count": 62,
     "metadata": {},
     "output_type": "execute_result"
    }
   ],
   "source": [
    "demux_em.loc[(demux_em.classification == 'unknown'),'classification']='Negative'\n",
    "demux_em"
   ]
  },
  {
   "cell_type": "code",
   "execution_count": null,
   "id": "58b02481",
   "metadata": {},
   "outputs": [],
   "source": []
  },
  {
   "cell_type": "markdown",
   "id": "aa86c650",
   "metadata": {},
   "source": [
    "<h3> General results </h3>"
   ]
  },
  {
   "cell_type": "code",
   "execution_count": 27,
   "id": "a3e377a1",
   "metadata": {},
   "outputs": [
    {
     "name": "stdout",
     "output_type": "stream",
     "text": [
      "defaultdict(<class 'list'>, {'Negative': [3205, 4827, 0, 2446], 'Singlet': [1402, 50, 4878, 1929], 'Doublet': [271, 1, 902, 514], 'Algorithm': ['HTODemul', 'Hashed Drops', 'MULTI-Seq', 'DemuxEM']})\n"
     ]
    }
   ],
   "source": [
    "dd = defaultdict(list)\n",
    "for d in (htoDemul_dict,drop_dict,multiseq_dict,demux_res_dict): # you can list as many input dicts as you want here\n",
    "    for key, value in d.items():\n",
    "        dd[key].append(value)\n",
    "\n",
    "print(dd)"
   ]
  },
  {
   "cell_type": "code",
   "execution_count": 28,
   "id": "6f96afea",
   "metadata": {},
   "outputs": [],
   "source": [
    "results = pd.DataFrame(dict(dd))"
   ]
  },
  {
   "cell_type": "code",
   "execution_count": 29,
   "id": "1e8afa82",
   "metadata": {},
   "outputs": [
    {
     "data": {
      "text/html": [
       "<div>\n",
       "<style scoped>\n",
       "    .dataframe tbody tr th:only-of-type {\n",
       "        vertical-align: middle;\n",
       "    }\n",
       "\n",
       "    .dataframe tbody tr th {\n",
       "        vertical-align: top;\n",
       "    }\n",
       "\n",
       "    .dataframe thead th {\n",
       "        text-align: right;\n",
       "    }\n",
       "</style>\n",
       "<table border=\"1\" class=\"dataframe\">\n",
       "  <thead>\n",
       "    <tr style=\"text-align: right;\">\n",
       "      <th></th>\n",
       "      <th>Negative</th>\n",
       "      <th>Singlet</th>\n",
       "      <th>Doublet</th>\n",
       "      <th>Algorithm</th>\n",
       "    </tr>\n",
       "  </thead>\n",
       "  <tbody>\n",
       "    <tr>\n",
       "      <th>0</th>\n",
       "      <td>3205</td>\n",
       "      <td>1402</td>\n",
       "      <td>271</td>\n",
       "      <td>HTODemul</td>\n",
       "    </tr>\n",
       "    <tr>\n",
       "      <th>1</th>\n",
       "      <td>4827</td>\n",
       "      <td>50</td>\n",
       "      <td>1</td>\n",
       "      <td>Hashed Drops</td>\n",
       "    </tr>\n",
       "    <tr>\n",
       "      <th>2</th>\n",
       "      <td>0</td>\n",
       "      <td>4878</td>\n",
       "      <td>902</td>\n",
       "      <td>MULTI-Seq</td>\n",
       "    </tr>\n",
       "    <tr>\n",
       "      <th>3</th>\n",
       "      <td>2446</td>\n",
       "      <td>1929</td>\n",
       "      <td>514</td>\n",
       "      <td>DemuxEM</td>\n",
       "    </tr>\n",
       "  </tbody>\n",
       "</table>\n",
       "</div>"
      ],
      "text/plain": [
       "   Negative  Singlet  Doublet     Algorithm\n",
       "0      3205     1402      271      HTODemul\n",
       "1      4827       50        1  Hashed Drops\n",
       "2         0     4878      902     MULTI-Seq\n",
       "3      2446     1929      514       DemuxEM"
      ]
     },
     "execution_count": 29,
     "metadata": {},
     "output_type": "execute_result"
    }
   ],
   "source": [
    "results"
   ]
  },
  {
   "cell_type": "code",
   "execution_count": 30,
   "id": "e9ee5d86",
   "metadata": {},
   "outputs": [
    {
     "data": {
      "text/plain": [
       "<AxesSubplot:title={'center':'Hashing Demultiplexing per algorithm'}, xlabel='Algorithm'>"
      ]
     },
     "execution_count": 30,
     "metadata": {},
     "output_type": "execute_result"
    },
    {
     "data": {
      "image/png": "[encoded data removed]",
      "text/plain": [
       "<Figure size 1080x720 with 1 Axes>"
      ]
     },
     "metadata": {
      "needs_background": "light"
     },
     "output_type": "display_data"
    }
   ],
   "source": [
    "results.plot.bar(x='Algorithm', stacked=True,color=[\"#DA4167\",\"#E2B1B1\",\"#258EA6\"], title='Hashing Demultiplexing per algorithm',figsize=(15, 10))"
   ]
  },
  {
   "cell_type": "markdown",
   "id": "f3747dcb",
   "metadata": {},
   "source": [
    "<h3> Dataframe for all results </h3>"
   ]
  },
  {
   "cell_type": "code",
   "execution_count": 56,
   "id": "df0e8364",
   "metadata": {},
   "outputs": [],
   "source": [
    "results_classification = htodemul_results.copy()\n",
    "results_classification.columns = [\"hashtag\",\"HTODemul\"]\n",
    "results_classification[\"Multi-seq\"] = multiseq_copy[\"classification\"]"
   ]
  },
  {
   "cell_type": "code",
   "execution_count": 63,
   "id": "0aa4d4e8",
   "metadata": {},
   "outputs": [],
   "source": [
    "results_classification[\"Demux_EM\"] = demux_em['classification']"
   ]
  },
  {
   "cell_type": "code",
   "execution_count": 64,
   "id": "a99a42ce",
   "metadata": {},
   "outputs": [
    {
     "data": {
      "text/html": [
       "<div>\n",
       "<style scoped>\n",
       "    .dataframe tbody tr th:only-of-type {\n",
       "        vertical-align: middle;\n",
       "    }\n",
       "\n",
       "    .dataframe tbody tr th {\n",
       "        vertical-align: top;\n",
       "    }\n",
       "\n",
       "    .dataframe thead th {\n",
       "        text-align: right;\n",
       "    }\n",
       "</style>\n",
       "<table border=\"1\" class=\"dataframe\">\n",
       "  <thead>\n",
       "    <tr style=\"text-align: right;\">\n",
       "      <th></th>\n",
       "      <th>hashtag</th>\n",
       "      <th>HTODemul</th>\n",
       "      <th>Multi-seq</th>\n",
       "      <th>Demux_EM</th>\n",
       "    </tr>\n",
       "  </thead>\n",
       "  <tbody>\n",
       "    <tr>\n",
       "      <th>0</th>\n",
       "      <td>AAACCCAAGGTGTGAC-1</td>\n",
       "      <td>Singlet</td>\n",
       "      <td>Singlet</td>\n",
       "      <td>Doublet</td>\n",
       "    </tr>\n",
       "    <tr>\n",
       "      <th>1</th>\n",
       "      <td>AAACCCAGTGAGAGGG-1</td>\n",
       "      <td>Negative</td>\n",
       "      <td>Negative</td>\n",
       "      <td>Singlet</td>\n",
       "    </tr>\n",
       "    <tr>\n",
       "      <th>2</th>\n",
       "      <td>AAACGAAAGAATCTAG-1</td>\n",
       "      <td>Negative</td>\n",
       "      <td>Singlet</td>\n",
       "      <td>Negative</td>\n",
       "    </tr>\n",
       "    <tr>\n",
       "      <th>3</th>\n",
       "      <td>AAACGAACACATATGC-1</td>\n",
       "      <td>Negative</td>\n",
       "      <td>Negative</td>\n",
       "      <td>Negative</td>\n",
       "    </tr>\n",
       "    <tr>\n",
       "      <th>4</th>\n",
       "      <td>AAACGAACACGACTAT-1</td>\n",
       "      <td>Singlet</td>\n",
       "      <td>Singlet</td>\n",
       "      <td>Singlet</td>\n",
       "    </tr>\n",
       "    <tr>\n",
       "      <th>...</th>\n",
       "      <td>...</td>\n",
       "      <td>...</td>\n",
       "      <td>...</td>\n",
       "      <td>...</td>\n",
       "    </tr>\n",
       "    <tr>\n",
       "      <th>4873</th>\n",
       "      <td>TTTGTTGAGTCCCAGC-1</td>\n",
       "      <td>Negative</td>\n",
       "      <td>Negative</td>\n",
       "      <td>Singlet</td>\n",
       "    </tr>\n",
       "    <tr>\n",
       "      <th>4874</th>\n",
       "      <td>TTTGTTGCAGCGCGTT-1</td>\n",
       "      <td>Doublet</td>\n",
       "      <td>Doublet</td>\n",
       "      <td>Negative</td>\n",
       "    </tr>\n",
       "    <tr>\n",
       "      <th>4875</th>\n",
       "      <td>TTTGTTGGTTATCTTC-1</td>\n",
       "      <td>Negative</td>\n",
       "      <td>Singlet</td>\n",
       "      <td>Negative</td>\n",
       "    </tr>\n",
       "    <tr>\n",
       "      <th>4876</th>\n",
       "      <td>TTTGTTGTCCAGTGTA-1</td>\n",
       "      <td>Singlet</td>\n",
       "      <td>Singlet</td>\n",
       "      <td>Singlet</td>\n",
       "    </tr>\n",
       "    <tr>\n",
       "      <th>4877</th>\n",
       "      <td>TTTGTTGTCGCTTAAG-1</td>\n",
       "      <td>Negative</td>\n",
       "      <td>Negative</td>\n",
       "      <td>Negative</td>\n",
       "    </tr>\n",
       "  </tbody>\n",
       "</table>\n",
       "<p>4878 rows × 4 columns</p>\n",
       "</div>"
      ],
      "text/plain": [
       "                 hashtag  HTODemul Multi-seq  Demux_EM\n",
       "0     AAACCCAAGGTGTGAC-1   Singlet   Singlet   Doublet\n",
       "1     AAACCCAGTGAGAGGG-1  Negative  Negative   Singlet\n",
       "2     AAACGAAAGAATCTAG-1  Negative   Singlet  Negative\n",
       "3     AAACGAACACATATGC-1  Negative  Negative  Negative\n",
       "4     AAACGAACACGACTAT-1   Singlet   Singlet   Singlet\n",
       "...                  ...       ...       ...       ...\n",
       "4873  TTTGTTGAGTCCCAGC-1  Negative  Negative   Singlet\n",
       "4874  TTTGTTGCAGCGCGTT-1   Doublet   Doublet  Negative\n",
       "4875  TTTGTTGGTTATCTTC-1  Negative   Singlet  Negative\n",
       "4876  TTTGTTGTCCAGTGTA-1   Singlet   Singlet   Singlet\n",
       "4877  TTTGTTGTCGCTTAAG-1  Negative  Negative  Negative\n",
       "\n",
       "[4878 rows x 4 columns]"
      ]
     },
     "execution_count": 64,
     "metadata": {},
     "output_type": "execute_result"
    }
   ],
   "source": [
    "results_classification"
   ]
  },
  {
   "cell_type": "markdown",
   "id": "fb80bbec",
   "metadata": {},
   "source": [
    "<h3> Upset Plot </h3>"
   ]
  },
  {
   "cell_type": "code",
   "execution_count": null,
   "id": "0aa30652",
   "metadata": {},
   "outputs": [],
   "source": [
    "upset = UpSet(results_classification)  # disable the default bar chart\n",
    "upset.add_stacked_bars(by=\"\", colors=cm.Pastel1,\n",
    "                       title=\"Hashing demultiplexing\", elements=10)\n",
    "upset.plot()\n",
    "plt.suptitle(\"Classification as Singlets, Doublets or Negatives per algorithm\")\n",
    "plt.show()"
   ]
  },
  {
   "cell_type": "code",
   "execution_count": 67,
   "id": "9a7995cb",
   "metadata": {},
   "outputs": [],
   "source": [
    "#from upsetplot import plot\n",
    "#plot(results_classification)  "
   ]
  },
  {
   "cell_type": "code",
   "execution_count": null,
   "id": "01ee054c",
   "metadata": {},
   "outputs": [],
   "source": []
  }
 ],
 "metadata": {
  "kernelspec": {
   "display_name": "Python 3 (ipykernel)",
   "language": "python",
   "name": "python3"
  },
  "language_info": {
   "codemirror_mode": {
    "name": "ipython",
    "version": 3
   },
   "file_extension": ".py",
   "mimetype": "text/x-python",
   "name": "python",
   "nbconvert_exporter": "python",
   "pygments_lexer": "ipython3",
   "version": "3.9.12"
  }
 },
 "nbformat": 4,
 "nbformat_minor": 5
}
