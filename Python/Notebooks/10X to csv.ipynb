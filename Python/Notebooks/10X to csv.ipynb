{
 "cells": [
  {
   "cell_type": "code",
   "execution_count": 1,
   "id": "5f9d8d2f",
   "metadata": {},
   "outputs": [],
   "source": [
    "import csv\n",
    "import gzip\n",
    "import os\n",
    "import scipy.io\n",
    "import numpy as np"
   ]
  },
  {
   "cell_type": "code",
   "execution_count": 33,
   "id": "6f326dbc",
   "metadata": {},
   "outputs": [],
   "source": [
    "# define MEX directory\n",
    "matrix_dir = \"/Users/mylenemarianagonzalesandre/Development/Data-cluster/Count/filtered_feature_bc_matrix\"\n",
    "# read in MEX format matrix as table\n",
    "mat = scipy.io.mmread(os.path.join(matrix_dir, \"matrix.mtx.gz\"))\n",
    "\n",
    "# list of transcript ids, e.g. 'ENSG00000243485'\n",
    "features_path = os.path.join(matrix_dir, \"features.tsv.gz\")\n",
    "feature_ids = [row[0] for row in csv.reader(gzip.open(features_path, mode=\"rt\"), delimiter=\"\\t\")]\n",
    " \n",
    "# list of gene names, e.g. 'MIR1302-2HG'\n",
    "gene_names = [row[1] for row in csv.reader(gzip.open(features_path, mode=\"rt\"), delimiter=\"\\t\")]\n",
    " \n",
    "# list of feature_types, e.g. 'Gene Expression'\n",
    "feature_types = [row[2] for row in csv.reader(gzip.open(features_path, mode=\"rt\"), delimiter=\"\\t\")]\n",
    "barcodes_path = os.path.join(matrix_dir, \"barcodes.tsv.gz\")\n",
    "barcodes = [row[0] for row in csv.reader(gzip.open(barcodes_path, mode=\"rt\"), delimiter=\"\\t\")]\n"
   ]
  },
  {
   "cell_type": "code",
   "execution_count": 34,
   "id": "f05b5479",
   "metadata": {},
   "outputs": [
    {
     "data": {
      "text/plain": [
       "['Hash451', 'Hash452', 'Hash453', 'Hash454', 'Hash455', 'Hash456']"
      ]
     },
     "execution_count": 34,
     "metadata": {},
     "output_type": "execute_result"
    }
   ],
   "source": [
    "feature_ids"
   ]
  },
  {
   "cell_type": "code",
   "execution_count": 35,
   "id": "92e47d3d",
   "metadata": {},
   "outputs": [
    {
     "data": {
      "text/plain": [
       "['Hash451_TotalSeqA',\n",
       " 'Hash452_TotalSeqA',\n",
       " 'Hash453_TotalSeqA',\n",
       " 'Hash454_TotalSeqA',\n",
       " 'Hash455_TotalSeqA',\n",
       " 'Hash456_TotalSeqA']"
      ]
     },
     "execution_count": 35,
     "metadata": {},
     "output_type": "execute_result"
    }
   ],
   "source": [
    "gene_names"
   ]
  },
  {
   "cell_type": "code",
   "execution_count": 36,
   "id": "0a877772",
   "metadata": {},
   "outputs": [
    {
     "data": {
      "text/plain": [
       "(6,)"
      ]
     },
     "execution_count": 36,
     "metadata": {},
     "output_type": "execute_result"
    }
   ],
   "source": [
    "np.shape(feature_ids)"
   ]
  },
  {
   "cell_type": "code",
   "execution_count": 37,
   "id": "8d74585a",
   "metadata": {},
   "outputs": [
    {
     "data": {
      "text/plain": [
       "(6,)"
      ]
     },
     "execution_count": 37,
     "metadata": {},
     "output_type": "execute_result"
    }
   ],
   "source": [
    "np.shape(gene_names)"
   ]
  },
  {
   "cell_type": "code",
   "execution_count": 38,
   "id": "986c4f45",
   "metadata": {},
   "outputs": [
    {
     "data": {
      "text/plain": [
       "(6, 90910)"
      ]
     },
     "execution_count": 38,
     "metadata": {},
     "output_type": "execute_result"
    }
   ],
   "source": [
    "np.shape(mat)"
   ]
  },
  {
   "cell_type": "code",
   "execution_count": 39,
   "id": "8e0178f1",
   "metadata": {},
   "outputs": [
    {
     "data": {
      "text/plain": [
       "90910"
      ]
     },
     "execution_count": 39,
     "metadata": {},
     "output_type": "execute_result"
    }
   ],
   "source": [
    "len(barcodes)"
   ]
  },
  {
   "cell_type": "code",
   "execution_count": 40,
   "id": "a9a387cb",
   "metadata": {},
   "outputs": [],
   "source": [
    "import pandas as pd\n",
    " \n",
    "# transform table to pandas dataframe and label rows and columns\n",
    "matrix = pd.DataFrame.sparse.from_spmatrix(mat)\n",
    "matrix = matrix.transpose()\n"
   ]
  },
  {
   "cell_type": "code",
   "execution_count": 41,
   "id": "0e380fa0",
   "metadata": {},
   "outputs": [
    {
     "data": {
      "text/html": [
       "<div>\n",
       "<style scoped>\n",
       "    .dataframe tbody tr th:only-of-type {\n",
       "        vertical-align: middle;\n",
       "    }\n",
       "\n",
       "    .dataframe tbody tr th {\n",
       "        vertical-align: top;\n",
       "    }\n",
       "\n",
       "    .dataframe thead th {\n",
       "        text-align: right;\n",
       "    }\n",
       "</style>\n",
       "<table border=\"1\" class=\"dataframe\">\n",
       "  <thead>\n",
       "    <tr style=\"text-align: right;\">\n",
       "      <th></th>\n",
       "      <th></th>\n",
       "      <th>Hash451_TotalSeqA</th>\n",
       "      <th>Hash452_TotalSeqA</th>\n",
       "      <th>Hash453_TotalSeqA</th>\n",
       "      <th>Hash454_TotalSeqA</th>\n",
       "      <th>Hash455_TotalSeqA</th>\n",
       "      <th>Hash456_TotalSeqA</th>\n",
       "    </tr>\n",
       "  </thead>\n",
       "  <tbody>\n",
       "    <tr>\n",
       "      <th>0</th>\n",
       "      <td>AAACCCAAGACCATGG-1</td>\n",
       "      <td>176</td>\n",
       "      <td>72</td>\n",
       "      <td>332</td>\n",
       "      <td>13</td>\n",
       "      <td>16</td>\n",
       "      <td>49</td>\n",
       "    </tr>\n",
       "    <tr>\n",
       "      <th>1</th>\n",
       "      <td>AAACCCAAGACCTGGA-1</td>\n",
       "      <td>211</td>\n",
       "      <td>68</td>\n",
       "      <td>372</td>\n",
       "      <td>8</td>\n",
       "      <td>19</td>\n",
       "      <td>40</td>\n",
       "    </tr>\n",
       "    <tr>\n",
       "      <th>2</th>\n",
       "      <td>AAACCCAAGAGAGCAA-1</td>\n",
       "      <td>193</td>\n",
       "      <td>65</td>\n",
       "      <td>364</td>\n",
       "      <td>7</td>\n",
       "      <td>30</td>\n",
       "      <td>63</td>\n",
       "    </tr>\n",
       "    <tr>\n",
       "      <th>3</th>\n",
       "      <td>AAACCCAAGAGATGCC-1</td>\n",
       "      <td>166</td>\n",
       "      <td>88</td>\n",
       "      <td>396</td>\n",
       "      <td>5</td>\n",
       "      <td>23</td>\n",
       "      <td>63</td>\n",
       "    </tr>\n",
       "    <tr>\n",
       "      <th>4</th>\n",
       "      <td>AAACCCAAGATGAACT-1</td>\n",
       "      <td>196</td>\n",
       "      <td>68</td>\n",
       "      <td>371</td>\n",
       "      <td>4</td>\n",
       "      <td>30</td>\n",
       "      <td>49</td>\n",
       "    </tr>\n",
       "    <tr>\n",
       "      <th>...</th>\n",
       "      <td>...</td>\n",
       "      <td>...</td>\n",
       "      <td>...</td>\n",
       "      <td>...</td>\n",
       "      <td>...</td>\n",
       "      <td>...</td>\n",
       "      <td>...</td>\n",
       "    </tr>\n",
       "    <tr>\n",
       "      <th>90905</th>\n",
       "      <td>TTTGTTGTCGCTTAAG-1</td>\n",
       "      <td>219</td>\n",
       "      <td>53</td>\n",
       "      <td>400</td>\n",
       "      <td>6</td>\n",
       "      <td>18</td>\n",
       "      <td>64</td>\n",
       "    </tr>\n",
       "    <tr>\n",
       "      <th>90906</th>\n",
       "      <td>TTTGTTGTCGTTGCCT-1</td>\n",
       "      <td>219</td>\n",
       "      <td>117</td>\n",
       "      <td>588</td>\n",
       "      <td>9</td>\n",
       "      <td>37</td>\n",
       "      <td>84</td>\n",
       "    </tr>\n",
       "    <tr>\n",
       "      <th>90907</th>\n",
       "      <td>TTTGTTGTCTACGGTA-1</td>\n",
       "      <td>162</td>\n",
       "      <td>61</td>\n",
       "      <td>388</td>\n",
       "      <td>6</td>\n",
       "      <td>20</td>\n",
       "      <td>58</td>\n",
       "    </tr>\n",
       "    <tr>\n",
       "      <th>90908</th>\n",
       "      <td>TTTGTTGTCTAGTGTG-1</td>\n",
       "      <td>164</td>\n",
       "      <td>63</td>\n",
       "      <td>301</td>\n",
       "      <td>8</td>\n",
       "      <td>13</td>\n",
       "      <td>36</td>\n",
       "    </tr>\n",
       "    <tr>\n",
       "      <th>90909</th>\n",
       "      <td>TTTGTTGTCTCTCTTC-1</td>\n",
       "      <td>177</td>\n",
       "      <td>71</td>\n",
       "      <td>320</td>\n",
       "      <td>10</td>\n",
       "      <td>7</td>\n",
       "      <td>47</td>\n",
       "    </tr>\n",
       "  </tbody>\n",
       "</table>\n",
       "<p>90910 rows × 7 columns</p>\n",
       "</div>"
      ],
      "text/plain": [
       "                           Hash451_TotalSeqA  Hash452_TotalSeqA  \\\n",
       "0      AAACCCAAGACCATGG-1                176                 72   \n",
       "1      AAACCCAAGACCTGGA-1                211                 68   \n",
       "2      AAACCCAAGAGAGCAA-1                193                 65   \n",
       "3      AAACCCAAGAGATGCC-1                166                 88   \n",
       "4      AAACCCAAGATGAACT-1                196                 68   \n",
       "...                   ...                ...                ...   \n",
       "90905  TTTGTTGTCGCTTAAG-1                219                 53   \n",
       "90906  TTTGTTGTCGTTGCCT-1                219                117   \n",
       "90907  TTTGTTGTCTACGGTA-1                162                 61   \n",
       "90908  TTTGTTGTCTAGTGTG-1                164                 63   \n",
       "90909  TTTGTTGTCTCTCTTC-1                177                 71   \n",
       "\n",
       "       Hash453_TotalSeqA  Hash454_TotalSeqA  Hash455_TotalSeqA  \\\n",
       "0                    332                 13                 16   \n",
       "1                    372                  8                 19   \n",
       "2                    364                  7                 30   \n",
       "3                    396                  5                 23   \n",
       "4                    371                  4                 30   \n",
       "...                  ...                ...                ...   \n",
       "90905                400                  6                 18   \n",
       "90906                588                  9                 37   \n",
       "90907                388                  6                 20   \n",
       "90908                301                  8                 13   \n",
       "90909                320                 10                  7   \n",
       "\n",
       "       Hash456_TotalSeqA  \n",
       "0                     49  \n",
       "1                     40  \n",
       "2                     63  \n",
       "3                     63  \n",
       "4                     49  \n",
       "...                  ...  \n",
       "90905                 64  \n",
       "90906                 84  \n",
       "90907                 58  \n",
       "90908                 36  \n",
       "90909                 47  \n",
       "\n",
       "[90910 rows x 7 columns]"
      ]
     },
     "execution_count": 41,
     "metadata": {},
     "output_type": "execute_result"
    }
   ],
   "source": [
    "matrix.columns = gene_names\n",
    "#matrix.columns = barcodes\n",
    "#matrix.insert(loc=0, column=\"feature_id\", value=feature_ids)\n",
    "matrix.insert(loc=0, column=\" \", value=barcodes)\n",
    "#matrix.insert(loc=0, column=\"feature_type\", value=feature_types)\n",
    "matrix"
   ]
  },
  {
   "cell_type": "code",
   "execution_count": 43,
   "id": "f453d1fb",
   "metadata": {},
   "outputs": [],
   "source": [
    "matrix.to_csv(\"/Users/mylenemarianagonzalesandre/Development/Data-cluster/filtered_feature_bc_matrix.csv\", index=False)\n",
    "# save the table as a CSV (note the CSV will be a very large file)\n",
    "#matrix.to_csv(, index=False)"
   ]
  },
  {
   "cell_type": "code",
   "execution_count": 37,
   "id": "0268c4b7",
   "metadata": {},
   "outputs": [],
   "source": [
    "hto_mat_df = pd.read_csv(\"/Users/mylenemarianagonzalesandre/Development/Data-cluster/filtered_feature_bc_matrix.csv\")"
   ]
  },
  {
   "cell_type": "code",
   "execution_count": 38,
   "id": "d0c288f5",
   "metadata": {},
   "outputs": [
    {
     "data": {
      "text/html": [
       "<div>\n",
       "<style scoped>\n",
       "    .dataframe tbody tr th:only-of-type {\n",
       "        vertical-align: middle;\n",
       "    }\n",
       "\n",
       "    .dataframe tbody tr th {\n",
       "        vertical-align: top;\n",
       "    }\n",
       "\n",
       "    .dataframe thead th {\n",
       "        text-align: right;\n",
       "    }\n",
       "</style>\n",
       "<table border=\"1\" class=\"dataframe\">\n",
       "  <thead>\n",
       "    <tr style=\"text-align: right;\">\n",
       "      <th></th>\n",
       "      <th></th>\n",
       "      <th>Hash451_TotalSeqA</th>\n",
       "      <th>Hash452_TotalSeqA</th>\n",
       "      <th>Hash453_TotalSeqA</th>\n",
       "      <th>Hash454_TotalSeqA</th>\n",
       "      <th>Hash455_TotalSeqA</th>\n",
       "      <th>Hash456_TotalSeqA</th>\n",
       "    </tr>\n",
       "  </thead>\n",
       "  <tbody>\n",
       "    <tr>\n",
       "      <th>0</th>\n",
       "      <td>AAACCCAAGACCATGG-1</td>\n",
       "      <td>176</td>\n",
       "      <td>72</td>\n",
       "      <td>332</td>\n",
       "      <td>13</td>\n",
       "      <td>16</td>\n",
       "      <td>49</td>\n",
       "    </tr>\n",
       "    <tr>\n",
       "      <th>1</th>\n",
       "      <td>AAACCCAAGACCTGGA-1</td>\n",
       "      <td>211</td>\n",
       "      <td>68</td>\n",
       "      <td>372</td>\n",
       "      <td>8</td>\n",
       "      <td>19</td>\n",
       "      <td>40</td>\n",
       "    </tr>\n",
       "    <tr>\n",
       "      <th>2</th>\n",
       "      <td>AAACCCAAGAGAGCAA-1</td>\n",
       "      <td>193</td>\n",
       "      <td>65</td>\n",
       "      <td>364</td>\n",
       "      <td>7</td>\n",
       "      <td>30</td>\n",
       "      <td>63</td>\n",
       "    </tr>\n",
       "    <tr>\n",
       "      <th>3</th>\n",
       "      <td>AAACCCAAGAGATGCC-1</td>\n",
       "      <td>166</td>\n",
       "      <td>88</td>\n",
       "      <td>396</td>\n",
       "      <td>5</td>\n",
       "      <td>23</td>\n",
       "      <td>63</td>\n",
       "    </tr>\n",
       "    <tr>\n",
       "      <th>4</th>\n",
       "      <td>AAACCCAAGATGAACT-1</td>\n",
       "      <td>196</td>\n",
       "      <td>68</td>\n",
       "      <td>371</td>\n",
       "      <td>4</td>\n",
       "      <td>30</td>\n",
       "      <td>49</td>\n",
       "    </tr>\n",
       "  </tbody>\n",
       "</table>\n",
       "</div>"
      ],
      "text/plain": [
       "                       Hash451_TotalSeqA  Hash452_TotalSeqA  \\\n",
       "0  AAACCCAAGACCATGG-1                176                 72   \n",
       "1  AAACCCAAGACCTGGA-1                211                 68   \n",
       "2  AAACCCAAGAGAGCAA-1                193                 65   \n",
       "3  AAACCCAAGAGATGCC-1                166                 88   \n",
       "4  AAACCCAAGATGAACT-1                196                 68   \n",
       "\n",
       "   Hash453_TotalSeqA  Hash454_TotalSeqA  Hash455_TotalSeqA  Hash456_TotalSeqA  \n",
       "0                332                 13                 16                 49  \n",
       "1                372                  8                 19                 40  \n",
       "2                364                  7                 30                 63  \n",
       "3                396                  5                 23                 63  \n",
       "4                371                  4                 30                 49  "
      ]
     },
     "execution_count": 38,
     "metadata": {},
     "output_type": "execute_result"
    }
   ],
   "source": [
    "hto_mat_df.head()"
   ]
  },
  {
   "cell_type": "code",
   "execution_count": null,
   "id": "8165ca46",
   "metadata": {},
   "outputs": [],
   "source": []
  }
 ],
 "metadata": {
  "kernelspec": {
   "display_name": "Python 3 (ipykernel)",
   "language": "python",
   "name": "python3"
  },
  "language_info": {
   "codemirror_mode": {
    "name": "ipython",
    "version": 3
   },
   "file_extension": ".py",
   "mimetype": "text/x-python",
   "name": "python",
   "nbconvert_exporter": "python",
   "pygments_lexer": "ipython3",
   "version": "3.9.12"
  }
 },
 "nbformat": 4,
 "nbformat_minor": 5
}
