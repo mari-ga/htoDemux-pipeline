{
 "cells": [
  {
   "cell_type": "code",
   "execution_count": 4,
   "id": "5479f0e1",
   "metadata": {},
   "outputs": [],
   "source": [
    "import scvi\n",
    "import scanpy as sc\n",
    "import matplotlib.pyplot as plt\n",
    "import anndata"
   ]
  },
  {
   "cell_type": "code",
   "execution_count": 11,
   "id": "f0b1fd43",
   "metadata": {},
   "outputs": [
    {
     "ename": "TypeError",
     "evalue": "__init__() got an unexpected keyword argument 'matrix'",
     "output_type": "error",
     "traceback": [
      "\u001b[0;31m---------------------------------------------------------------------------\u001b[0m",
      "\u001b[0;31mTypeError\u001b[0m                                 Traceback (most recent call last)",
      "Input \u001b[0;32mIn [11]\u001b[0m, in \u001b[0;36m<cell line: 4>\u001b[0;34m()\u001b[0m\n\u001b[1;32m      2\u001b[0m path_to_anndata \u001b[38;5;241m=\u001b[39m \u001b[38;5;124m\"\u001b[39m\u001b[38;5;124m/Users/mylenemarianagonzalesandre/Development/Data-cluster/UMI/filtered_feature_bc_matrix.h5\u001b[39m\u001b[38;5;124m\"\u001b[39m\n\u001b[1;32m      3\u001b[0m \u001b[38;5;66;03m#adata = anndata.read_h5ad(path_to_anndata)\u001b[39;00m\n\u001b[0;32m----> 4\u001b[0m data \u001b[38;5;241m=\u001b[39m \u001b[43manndata\u001b[49m\u001b[38;5;241;43m.\u001b[39;49m\u001b[43mread\u001b[49m\u001b[43m(\u001b[49m\u001b[43mpath_to_anndata\u001b[49m\u001b[43m)\u001b[49m\n\u001b[1;32m      5\u001b[0m scvi\u001b[38;5;241m.\u001b[39mmodel\u001b[38;5;241m.\u001b[39mSCVI\u001b[38;5;241m.\u001b[39msetup_anndata(adata)\n",
      "File \u001b[0;32m/opt/anaconda3/envs/scvi-env/lib/python3.9/site-packages/anndata/_io/h5ad.py:254\u001b[0m, in \u001b[0;36mread_h5ad\u001b[0;34m(filename, backed, as_sparse, as_sparse_fmt, chunk_size)\u001b[0m\n\u001b[1;32m    250\u001b[0m         \u001b[38;5;28;01mraise\u001b[39;00m \u001b[38;5;167;01mValueError\u001b[39;00m()\n\u001b[1;32m    252\u001b[0m _clean_uns(d)  \u001b[38;5;66;03m# backwards compat\u001b[39;00m\n\u001b[0;32m--> 254\u001b[0m \u001b[38;5;28;01mreturn\u001b[39;00m \u001b[43mAnnData\u001b[49m\u001b[43m(\u001b[49m\u001b[38;5;241;43m*\u001b[39;49m\u001b[38;5;241;43m*\u001b[39;49m\u001b[43md\u001b[49m\u001b[43m)\u001b[49m\n",
      "\u001b[0;31mTypeError\u001b[0m: __init__() got an unexpected keyword argument 'matrix'"
     ]
    }
   ],
   "source": [
    "#path_to_anndata = \"/Users/mylenemarianagonzalesandre/Development/Data-cluster/UMI/filtered_matrix.h5ad\"\n",
    "path_to_anndata = \"/Users/mylenemarianagonzalesandre/Development/Data-cluster/UMI/filtered_feature_bc_matrix.h5\"\n",
    "#adata = anndata.read_h5ad(path_to_anndata)\n",
    "data = anndata.read(path_to_anndata)\n",
    "scvi.model.SCVI.setup_anndata(adata)"
   ]
  },
  {
   "cell_type": "code",
   "execution_count": 9,
   "id": "b9d2231c",
   "metadata": {},
   "outputs": [
    {
     "name": "stderr",
     "output_type": "stream",
     "text": [
      "GPU available: False, used: False\n",
      "TPU available: False, using: 0 TPU cores\n",
      "IPU available: False, using: 0 IPUs\n",
      "HPU available: False, using: 0 HPUs\n"
     ]
    },
    {
     "name": "stdout",
     "output_type": "stream",
     "text": [
      "Epoch 400/400: 100%|█| 400/400 [15:38:32<00:00, 140.78s/it, loss=7.91e+03, v_num\n"
     ]
    }
   ],
   "source": [
    "vae = scvi.model.SCVI(adata)\n",
    "vae.train()\n"
   ]
  },
  {
   "cell_type": "code",
   "execution_count": 10,
   "id": "cc45f6ec",
   "metadata": {},
   "outputs": [
    {
     "name": "stdout",
     "output_type": "stream",
     "text": [
      "\u001b[34mINFO    \u001b[0m Creating doublets, preparing SOLO model.                                            \n"
     ]
    },
    {
     "name": "stderr",
     "output_type": "stream",
     "text": [
      "/opt/anaconda3/envs/scvi-env/lib/python3.9/site-packages/anndata/_core/anndata.py:1785: FutureWarning: X.dtype being converted to np.float32 from float64. In the next version of anndata (0.9) conversion will not be automatic. Pass dtype explicitly to avoid this warning. Pass `AnnData(X, dtype=X.dtype, ...)` to get the future behavour.\n",
      "  [AnnData(sparse.csr_matrix(a.shape), obs=a.obs) for a in all_adatas],\n",
      "GPU available: False, used: False\n",
      "TPU available: False, using: 0 TPU cores\n",
      "IPU available: False, using: 0 IPUs\n",
      "HPU available: False, using: 0 HPUs\n"
     ]
    },
    {
     "name": "stdout",
     "output_type": "stream",
     "text": [
      "Epoch 314/400:  78%|████▋ | 314/400 [01:16<00:20,  4.10it/s, loss=0.45, v_num=1]\n",
      "Monitored metric validation_loss did not improve in the last 30 records. Best score: 0.452. Signaling Trainer to stop.\n"
     ]
    },
    {
     "data": {
      "text/html": [
       "<div>\n",
       "<style scoped>\n",
       "    .dataframe tbody tr th:only-of-type {\n",
       "        vertical-align: middle;\n",
       "    }\n",
       "\n",
       "    .dataframe tbody tr th {\n",
       "        vertical-align: top;\n",
       "    }\n",
       "\n",
       "    .dataframe thead th {\n",
       "        text-align: right;\n",
       "    }\n",
       "</style>\n",
       "<table border=\"1\" class=\"dataframe\">\n",
       "  <thead>\n",
       "    <tr style=\"text-align: right;\">\n",
       "      <th></th>\n",
       "      <th>doublet</th>\n",
       "      <th>singlet</th>\n",
       "    </tr>\n",
       "  </thead>\n",
       "  <tbody>\n",
       "    <tr>\n",
       "      <th>AAACCCAAGGTGTGAC-0</th>\n",
       "      <td>-0.043269</td>\n",
       "      <td>0.696452</td>\n",
       "    </tr>\n",
       "    <tr>\n",
       "      <th>AAACCCAGTGAGAGGG-0</th>\n",
       "      <td>1.101202</td>\n",
       "      <td>-0.488691</td>\n",
       "    </tr>\n",
       "    <tr>\n",
       "      <th>AAACGAAAGAATCTAG-0</th>\n",
       "      <td>0.102132</td>\n",
       "      <td>1.308303</td>\n",
       "    </tr>\n",
       "    <tr>\n",
       "      <th>AAACGAACACATATGC-0</th>\n",
       "      <td>-1.019224</td>\n",
       "      <td>1.534128</td>\n",
       "    </tr>\n",
       "    <tr>\n",
       "      <th>AAACGAACACGACTAT-0</th>\n",
       "      <td>0.659079</td>\n",
       "      <td>-0.374479</td>\n",
       "    </tr>\n",
       "    <tr>\n",
       "      <th>...</th>\n",
       "      <td>...</td>\n",
       "      <td>...</td>\n",
       "    </tr>\n",
       "    <tr>\n",
       "      <th>TTTGTTGAGTCCCAGC-0</th>\n",
       "      <td>-2.851792</td>\n",
       "      <td>4.187253</td>\n",
       "    </tr>\n",
       "    <tr>\n",
       "      <th>TTTGTTGCAGCGCGTT-0</th>\n",
       "      <td>0.871736</td>\n",
       "      <td>-0.529211</td>\n",
       "    </tr>\n",
       "    <tr>\n",
       "      <th>TTTGTTGGTTATCTTC-0</th>\n",
       "      <td>-0.452877</td>\n",
       "      <td>-0.170383</td>\n",
       "    </tr>\n",
       "    <tr>\n",
       "      <th>TTTGTTGTCCAGTGTA-0</th>\n",
       "      <td>0.341846</td>\n",
       "      <td>-0.082186</td>\n",
       "    </tr>\n",
       "    <tr>\n",
       "      <th>TTTGTTGTCGCTTAAG-0</th>\n",
       "      <td>-0.264800</td>\n",
       "      <td>1.058857</td>\n",
       "    </tr>\n",
       "  </tbody>\n",
       "</table>\n",
       "<p>4889 rows × 2 columns</p>\n",
       "</div>"
      ],
      "text/plain": [
       "                     doublet   singlet\n",
       "AAACCCAAGGTGTGAC-0 -0.043269  0.696452\n",
       "AAACCCAGTGAGAGGG-0  1.101202 -0.488691\n",
       "AAACGAAAGAATCTAG-0  0.102132  1.308303\n",
       "AAACGAACACATATGC-0 -1.019224  1.534128\n",
       "AAACGAACACGACTAT-0  0.659079 -0.374479\n",
       "...                      ...       ...\n",
       "TTTGTTGAGTCCCAGC-0 -2.851792  4.187253\n",
       "TTTGTTGCAGCGCGTT-0  0.871736 -0.529211\n",
       "TTTGTTGGTTATCTTC-0 -0.452877 -0.170383\n",
       "TTTGTTGTCCAGTGTA-0  0.341846 -0.082186\n",
       "TTTGTTGTCGCTTAAG-0 -0.264800  1.058857\n",
       "\n",
       "[4889 rows x 2 columns]"
      ]
     },
     "execution_count": 10,
     "metadata": {},
     "output_type": "execute_result"
    }
   ],
   "source": [
    "solo = scvi.external.SOLO.from_scvi_model(vae)\n",
    "solo.train()\n",
    "prediction = solo.predict()\n",
    "prediction.to_csv(\"solo_prediction.csv\")"
   ]
  },
  {
   "cell_type": "code",
   "execution_count": null,
   "id": "bdd6a89b",
   "metadata": {},
   "outputs": [],
   "source": []
  }
 ],
 "metadata": {
  "kernelspec": {
   "display_name": "Python 3 (ipykernel)",
   "language": "python",
   "name": "python3"
  },
  "language_info": {
   "codemirror_mode": {
    "name": "ipython",
    "version": 3
   },
   "file_extension": ".py",
   "mimetype": "text/x-python",
   "name": "python",
   "nbconvert_exporter": "python",
   "pygments_lexer": "ipython3",
   "version": "3.9.13"
  }
 },
 "nbformat": 4,
 "nbformat_minor": 5
}
